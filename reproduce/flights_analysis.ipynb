{
 "cells": [
  {
   "cell_type": "code",
   "execution_count": 1,
   "metadata": {},
   "outputs": [],
   "source": [
    "%matplotlib inline\n",
    "import pathpy as pp\n",
    "import hypa\n",
    "import matplotlib.pyplot as plt\n",
    "import pickle\n",
    "import numpy as np\n",
    "from random import random\n",
    "import draw\n",
    "from itertools import cycle\n",
    "cols = cycle(plt.rcParams['axes.prop_cycle'].by_key()['color'])\n",
    "\n",
    "coupon_fname = \"coupons_2018_01-5percent\""
   ]
  },
  {
   "cell_type": "code",
   "execution_count": 2,
   "metadata": {},
   "outputs": [
    {
     "name": "stdout",
     "output_type": "stream",
     "text": [
      "2020-10-29 10:01:13 [Severity.INFO]\tReading ngram data ... \n",
      "2020-10-29 10:01:16 [Severity.INFO]\tfinished. Read 88539 paths with maximum length 10\n"
     ]
    }
   ],
   "source": [
    "paths = pp.Paths()\n",
    "paths = paths.read_file('../data/{}.ngram'.format(coupon_fname), frequency=True)"
   ]
  },
  {
   "cell_type": "code",
   "execution_count": 3,
   "metadata": {},
   "outputs": [
    {
     "name": "stdout",
     "output_type": "stream",
     "text": [
      "Total path count: \t\t185871.0 \n",
      "[Unique / Sub paths / Total]: \t[88539.0 / 1380687.0 / 1566558.0]\n",
      "Nodes:\t\t\t\t382 \n",
      "Edges:\t\t\t\t6933\n",
      "Max. path length:\t\t10\n",
      "Avg path length:\t\t2.481656632825992 \n",
      "Paths of length k = 0\t\t0.0 [ 0.0 / 647139.0 / 647139.0 ]\n",
      "Paths of length k = 1\t\t29531.0 [ 4667.0 / 431737.0 / 461268.0 ]\n",
      "Paths of length k = 2\t\t92711.0 [ 33610.0 / 182686.0 / 275397.0 ]\n",
      "Paths of length k = 3\t\t14358.0 [ 10943.0 / 104699.0 / 119057.0 ]\n",
      "Paths of length k = 4\t\t44885.0 [ 34961.0 / 10543.0 / 55428.0 ]\n",
      "Paths of length k = 5\t\t2852.0 [ 2833.0 / 3305.0 / 6157.0 ]\n",
      "Paths of length k = 6\t\t1374.0 [ 1365.0 / 397.0 / 1771.0 ]\n",
      "Paths of length k = 7\t\t104.0 [ 104.0 / 133.0 / 237.0 ]\n",
      "Paths of length k = 8\t\t41.0 [ 41.0 / 36.0 / 77.0 ]\n",
      "Paths of length k = 9\t\t9.0 [ 9.0 / 12.0 / 21.0 ]\n",
      "Paths of length k = 10\t\t6.0 [ 6.0 / 0.0 / 6.0 ]\n",
      "\n"
     ]
    }
   ],
   "source": [
    "print(paths)"
   ]
  },
  {
   "cell_type": "code",
   "execution_count": 4,
   "metadata": {},
   "outputs": [
    {
     "data": {
      "text/plain": [
       "461268.0"
      ]
     },
     "execution_count": 4,
     "metadata": {},
     "output_type": "execute_result"
    }
   ],
   "source": [
    "sum([k * v[1] for k,v in paths.path_lengths().items()])"
   ]
  },
  {
   "cell_type": "markdown",
   "metadata": {},
   "source": [
    "# Lambda_1"
   ]
  },
  {
   "cell_type": "code",
   "execution_count": 5,
   "metadata": {},
   "outputs": [
    {
     "data": {
      "text/plain": [
       "56.5502833753289"
      ]
     },
     "execution_count": 5,
     "metadata": {},
     "output_type": "execute_result"
    }
   ],
   "source": [
    "net = pp.HigherOrderNetwork(paths, k=1, separator=paths.separator)\n",
    "adj = net.adjacency_matrix(weighted=False).todense()\n",
    "w,wv = np.linalg.eig(adj)\n",
    "\n",
    "max(w).real"
   ]
  },
  {
   "cell_type": "code",
   "execution_count": 6,
   "metadata": {},
   "outputs": [
    {
     "data": {
      "text/plain": [
       "[0.8883151527305556, 50.234473613511504, 2840.7737180545573]"
      ]
     },
     "execution_count": 6,
     "metadata": {},
     "output_type": "execute_result"
    }
   ],
   "source": [
    "[max(w).real**k/3600 for k in range(2,5)]"
   ]
  },
  {
   "cell_type": "markdown",
   "metadata": {},
   "source": [
    "# Second order network"
   ]
  },
  {
   "cell_type": "code",
   "execution_count": 8,
   "metadata": {},
   "outputs": [
    {
     "name": "stdout",
     "output_type": "stream",
     "text": [
      "Computing the k=2 order Xi...\n",
      "Fitting Xi...\n",
      "rmse = 6977.366846733035\n",
      "rmse = 0.0009779261733649722\n"
     ]
    }
   ],
   "source": [
    "hy = hypa.Hypa.from_paths(paths, k=2, log=True)"
   ]
  },
  {
   "cell_type": "code",
   "execution_count": 9,
   "metadata": {},
   "outputs": [],
   "source": [
    "pnet_edges_sorted = sorted(hy.hypa_net.edges.items(), key = lambda kv: kv[1]['pval'])\n",
    "pnet_edges_set = set([x[0] for x in pnet_edges_sorted])"
   ]
  },
  {
   "cell_type": "code",
   "execution_count": 10,
   "metadata": {},
   "outputs": [
    {
     "data": {
      "image/png": "[encoded data removed]",
      "text/plain": [
       "<Figure size 345.6x259.2 with 1 Axes>"
      ]
     },
     "metadata": {},
     "output_type": "display_data"
    }
   ],
   "source": [
    "pvals  = []\n",
    "for e,dat in pnet_edges_sorted:\n",
    "    pvals.append(dat['pval'])\n",
    "\n",
    "plt.hist(np.exp(pvals), bins=40, log=True)\n",
    "# plt.hist((np.exp(pvals),np.exp(pval1).flatten()), bins=40, log=True)\n",
    "plt.xlabel('Transition likelihood')\n",
    "plt.ylabel('Count')\n",
    "plt.show()"
   ]
  },
  {
   "cell_type": "markdown",
   "metadata": {},
   "source": [
    "# Compare the return flights to others"
   ]
  },
  {
   "cell_type": "code",
   "execution_count": 11,
   "metadata": {},
   "outputs": [],
   "source": [
    "probs_return = []\n",
    "probs_other = []\n",
    "for e,d in hy.hypa_net.edges.items():\n",
    "    # check if A==C in (A-B)->(B-C)\n",
    "    if e[0].split(',')[0] == e[1].split(',')[1]:\n",
    "        probs_return.append(d['pval'])\n",
    "    else:\n",
    "        probs_other.append(d['pval'])"
   ]
  },
  {
   "cell_type": "code",
   "execution_count": 12,
   "metadata": {},
   "outputs": [
    {
     "name": "stdout",
     "output_type": "stream",
     "text": [
      "# return transitions:\t\t5840\n",
      "# non-return transitions:\t409254\n"
     ]
    },
    {
     "name": "stderr",
     "output_type": "stream",
     "text": [
      "/Users/larock/miniconda3/envs/hypa/lib/python3.6/site-packages/numpy/core/_asarray.py:83: VisibleDeprecationWarning: Creating an ndarray from ragged nested sequences (which is a list-or-tuple of lists-or-tuples-or ndarrays with different lengths or shapes) is deprecated. If you meant to do this, you must specify 'dtype=object' when creating the ndarray\n",
      "  return array(a, dtype, copy=False, order=order)\n"
     ]
    },
    {
     "data": {
      "image/png": "[encoded data removed]",
      "text/plain": [
       "<Figure size 345.6x259.2 with 1 Axes>"
      ]
     },
     "metadata": {},
     "output_type": "display_data"
    }
   ],
   "source": [
    "import draw\n",
    "draw.set_style()\n",
    "\n",
    "\n",
    "print('# return transitions:\\t\\t{}'.format(len(probs_return)))\n",
    "print('# non-return transitions:\\t{}'.format(len(probs_other)))\n",
    "\n",
    "plt.hist((np.exp(probs_return), np.exp(probs_other)),  bins=16,\n",
    "         log=False, stacked=False, density=True, \n",
    "         label=('Return',# ({})'.format(len(probs_return)), \n",
    "                'Non-return'))\n",
    "plt.xlabel('HYPA(2) scores')\n",
    "plt.ylabel('Density')\n",
    "plt.legend()\n",
    "plt.tight_layout()\n",
    "plt.savefig('output/flights-returns-diff.pdf')\n",
    "plt.show()"
   ]
  },
  {
   "cell_type": "code",
   "execution_count": 13,
   "metadata": {},
   "outputs": [
    {
     "name": "stdout",
     "output_type": "stream",
     "text": [
      "1e-05\t&\t0.628\t&\t0.001 \\\\\n",
      "\t return \t|\t non-return\n",
      "under \t\t over \t| under \t\t over\n",
      "0.0e+00 \t 0.628 \t| 4.8e-04 \t\t 0.001\n"
     ]
    }
   ],
   "source": [
    "po = 0.00001\n",
    "pthr_o = np.log(1-po)\n",
    "pthr_u = np.log(po)\n",
    "\n",
    "over_return = np.sum(np.array(probs_return) > pthr_o)\n",
    "under_return = np.sum(np.array(probs_return) <= pthr_u)\n",
    "\n",
    "over_other = np.sum(np.array(probs_other) > pthr_o)\n",
    "under_other = np.sum(np.array(probs_other) <= pthr_u)\n",
    "\n",
    "print(\"{:.0e}\\t&\\t{:.3f}\\t&\\t{:.3f} \\\\\\\\\".format(po, over_return/len(probs_return), over_other/len(probs_other)))\n",
    "\n",
    "print(\"\\t return \\t|\\t non-return\")\n",
    "print(\"under \\t\\t over \\t| under \\t\\t over\")\n",
    "print(\"{:.1e} \\t {:.3f} \\t| {:.1e} \\t\\t {:.3f}\".format(\n",
    "    under_return/len(probs_return), over_return/len(probs_return),\n",
    "    under_other/len(probs_other), over_other/len(probs_other) ))"
   ]
  },
  {
   "cell_type": "code",
   "execution_count": 14,
   "metadata": {
    "scrolled": true
   },
   "outputs": [],
   "source": [
    "over_non_return = []\n",
    "for e,d in hy.hypa_net.edges.items():\n",
    "    # check if A!=C in (A-B)->(B-C)\n",
    "    if e[0].split(',')[0] != e[1].split(',')[1] and d['pval'] > pthr_o:\n",
    "        over_non_return.append([e, d[\"weight\"], d[\"xival\"], d['pval']])"
   ]
  },
  {
   "cell_type": "code",
   "execution_count": 15,
   "metadata": {
    "scrolled": true
   },
   "outputs": [
    {
     "name": "stdout",
     "output_type": "stream",
     "text": [
      "511\n"
     ]
    },
    {
     "data": {
      "text/plain": [
       "[[('IAH,HNL', 'HNL,GUM'), 20.0, 322316.0, -1.742937551896422e-19],\n",
       " [('ATL,ORD', 'ORD,MDW'), 14.0, 129056.0, -5.6841685458694245e-18],\n",
       " [('LGA,MCO', 'MCO,JFK'), 25.0, 877312.0, -1.4050157825226132e-15],\n",
       " [('ATL,DAL', 'DAL,DFW'), 14.0, 211718.0, -7.204150500164294e-15],\n",
       " [('DAL,DFW', 'DFW,ATL'), 11.0, 104295.0, -1.2802662157034681e-14],\n",
       " [('ATL,DFW', 'DFW,DAL'), 12.0, 138328.0, -1.3044562732562464e-14],\n",
       " [('GUM,HNL', 'HNL,IAH'), 14.0, 224398.0, -1.6512936254006596e-14],\n",
       " [('ANC,PDX', 'PDX,MCO'), 12.0, 149545.0, -3.4615340267435315e-14],\n",
       " [('ORD,MDW', 'MDW,ATL'), 15.0, 289290.0, -3.912364341368643e-14],\n",
       " [('CLT,LAS', 'LAS,DFW'), 27.0, 1202797.0, -4.1259893492807623e-14],\n",
       " [('JFK,MIA', 'MIA,LGA'), 35.0, 2055837.0, -5.1637690477783327e-14],\n",
       " [('DFW,DAL', 'DAL,ATL'), 14.0, 256031.0, -1.072371228687217e-13],\n",
       " [('CLT,FLL', 'FLL,PHL'), 31.0, 1727972.0, -2.9353177296372e-13],\n",
       " [('LGA,DEN', 'DEN,ASE'), 17.0, 472245.0, -5.072748423158681e-13],\n",
       " [('JFK,DEN', 'DEN,LGA'), 12.0, 196545.0, -1.032016011736674e-12],\n",
       " [('LGA,MIA', 'MIA,JFK'), 31.0, 1846622.0, -1.6234187613576382e-12],\n",
       " [('MDW,MCO', 'MCO,OMA'), 9.0, 98396.0, -6.749952302784843e-12],\n",
       " [('ASE,DEN', 'DEN,LGA'), 16.0, 479936.0, -6.864193531653678e-12],\n",
       " [('MSP,SFO', 'SFO,DTW'), 17.0, 558462.0, -7.727296660425984e-12],\n",
       " [('ORF,ATL', 'ATL,SAN'), 17.0, 568047.0, -1.0158428902353933e-11],\n",
       " [('DFW,LAS', 'LAS,CLT'), 23.0, 1155466.0, -2.5766999736221905e-11],\n",
       " [('HOU,FLL', 'FLL,DAL'), 8.0, 80589.0, -3.331404422255034e-11],\n",
       " [('STL,DFW', 'DFW,HNL'), 14.0, 391026.0, -3.8944706285874265e-11],\n",
       " [('OGG,LAX', 'LAX,MSP'), 27.0, 1621790.0, -4.1358302767457806e-11],\n",
       " [('HOU,IAH', 'IAH,ATL'), 10.0, 161645.0, -4.16917700163999e-11],\n",
       " [('MDW,ORD', 'ORD,ATL'), 8.0, 82744.0, -4.194972045001001e-11],\n",
       " [('DCA,PHL', 'PHL,SAN'), 9.0, 123472.0, -6.017496545633138e-11],\n",
       " [('BZN,SLC', 'SLC,LAX'), 21.0, 1017247.0, -8.024281114080654e-11],\n",
       " [('LGA,FLL', 'FLL,JFK'), 21.0, 1017439.0, -8.052337697209866e-11],\n",
       " [('OMA,MDW', 'MDW,MCO'), 16.0, 594016.0, -1.7467346703307042e-10],\n",
       " [('DAL,MCO', 'MCO,HOU'), 12.0, 310674.0, -2.70621782299724e-10],\n",
       " [('HOU,MSY', 'MSY,DAL'), 19.0, 886349.0, -2.756657639245202e-10],\n",
       " [('IAH,DEN', 'DEN,ISN'), 10.0, 195917.0, -3.0857333251501054e-10],\n",
       " [('ANC,IAH', 'IAH,AEX'), 3.0, 2621.0, -3.3846590927550383e-10],\n",
       " [('LGA,PHL', 'PHL,SJU'), 10.0, 197883.0, -3.4216164921563906e-10],\n",
       " [('HOU,MCO', 'MCO,SAT'), 8.0, 106139.0, -3.655273975013542e-10],\n",
       " [('GEG,OAK', 'OAK,SAN'), 15.0, 552655.0, -5.03143568668314e-10],\n",
       " [('PDX,DCA', 'DCA,SEA'), 7.0, 73908.0, -5.25651752625764e-10],\n",
       " [('HOU,CLT', 'CLT,DAL'), 3.0, 3002.0, -5.820166258890745e-10],\n",
       " [('GUM,HNL', 'HNL,DEN'), 12.0, 332108.0, -5.995674063375128e-10],\n",
       " [('BWI,DEN', 'DEN,HNL'), 12.0, 337937.0, -7.372090556537089e-10],\n",
       " [('JFK,MSY', 'MSY,LGA'), 12.0, 339352.0, -7.746808171575888e-10],\n",
       " [('ATL,HOU', 'HOU,IAH'), 12.0, 344820.0, -9.36299677659219e-10],\n",
       " [('SEA,DCA', 'DCA,PDX'), 7.0, 82487.0, -1.2310652086070377e-09],\n",
       " [('DTW,ATL', 'ATL,ELP'), 11.0, 286165.0, -1.2707379330778894e-09],\n",
       " [('PDX,MCO', 'MCO,SEA'), 8.0, 123418.0, -1.3429032840608674e-09],\n",
       " [('DTW,SEA', 'SEA,KOA'), 14.0, 508529.0, -1.3475630730388346e-09],\n",
       " [('FAY,CLT', 'CLT,DFW'), 15.0, 605549.0, -1.815173258973812e-09],\n",
       " [('DAL,CLT', 'CLT,MDW'), 3.0, 4128.0, -2.075240396342692e-09],\n",
       " [('MSP,SLC', 'SLC,OGG'), 10.0, 238252.0, -2.307371292702943e-09],\n",
       " [('ATL,MDW', 'MDW,ORD'), 9.0, 181306.0, -2.319286801419639e-09],\n",
       " [('LGA,BNA', 'BNA,JFK'), 10.0, 239776.0, -2.4625711970586757e-09],\n",
       " [('MCI,SAN', 'SAN,HNL'), 7.0, 91860.0, -2.8257419396053796e-09],\n",
       " [('MCO,LGA', 'LGA,SYR'), 11.0, 308120.0, -2.8677889872287406e-09],\n",
       " [('GEG,SEA', 'SEA,SNA'), 24.0, 1596253.0, -3.010315997055126e-09],\n",
       " [('PHX,MCO', 'MCO,DFW'), 18.0, 920332.0, -3.145208062102552e-09],\n",
       " [('HOU,MEM', 'MEM,DAL'), 9.0, 193215.0, -4.213734800489027e-09],\n",
       " [('ATL,LAX', 'LAX,OAK'), 27.0, 2027573.0, -5.2497024142653345e-09],\n",
       " [('CLT,LAS', 'LAS,PHL'), 14.0, 566892.0, -5.645858595386596e-09],\n",
       " [('MIA,DFW', 'DFW,ASE'), 9.0, 201567.0, -6.2596810618696484e-09],\n",
       " [('MSP,ORD', 'ORD,MDW'), 9.0, 204586.0, -7.191439409215256e-09],\n",
       " [('DFW,FLL', 'FLL,CLT'), 25.0, 1797806.0, -7.278296494198008e-09],\n",
       " [('PHX,ORD', 'ORD,GRR'), 19.0, 1088005.0, -8.333106190500966e-09],\n",
       " [('ONT,ORD', 'ORD,CGI'), 1.0, 38.0, -9.268244670911066e-09],\n",
       " [('LGA,EWR', 'EWR,ORD'), 14.0, 590586.0, -9.632709323526e-09],\n",
       " [('JFK,MCO', 'MCO,LGA'), 15.0, 687903.0, -1.056333584316073e-08],\n",
       " [('STL,SEA', 'SEA,MDW'), 5.0, 39492.0, -1.0677641849652588e-08],\n",
       " [('DFW,CLT', 'CLT,FAY'), 14.0, 596065.0, -1.0861203160572736e-08],\n",
       " [('ANC,PHX', 'PHX,SEA'), 6.0, 69975.0, -1.0862281669480444e-08],\n",
       " [('STL,EWR', 'EWR,MDW'), 8.0, 158094.0, -1.1141090658091488e-08],\n",
       " [('BWI,ATL', 'ATL,HNL'), 10.0, 282001.0, -1.2754220274548652e-08],\n",
       " [('STL,PHL', 'PHL,MDW'), 9.0, 218140.0, -1.3064830870748657e-08],\n",
       " [('IAH,HOU', 'HOU,DFW'), 6.0, 72156.0, -1.337314037277738e-08],\n",
       " [('MSP,SEA', 'SEA,OGG'), 17.0, 909185.0, -1.50706875652556e-08],\n",
       " [('CMH,STL', 'STL,MCI'), 12.0, 441089.0, -1.665894635706018e-08],\n",
       " [('LIH,SEA', 'SEA,MSP'), 15.0, 711461.0, -1.6716713945006166e-08],\n",
       " [('OGG,HNL', 'HNL,LAS'), 25.0, 1875964.0, -1.67957652802883e-08],\n",
       " [('EWR,JFK', 'JFK,PDX'), 7.0, 117339.0, -1.8455644518567013e-08],\n",
       " [('MDW,SFO', 'SFO,OAK'), 4.0, 21286.0, -2.1544337521815205e-08],\n",
       " [('PHX,TPA', 'TPA,DFW'), 12.0, 451758.0, -2.1932794923139803e-08],\n",
       " [('SFO,DEN', 'DEN,MSN'), 13.0, 542107.0, -2.414360854638955e-08],\n",
       " [('CLT,RSW', 'RSW,PHL'), 20.0, 1280553.0, -2.454957612112501e-08],\n",
       " [('SAT,SAN', 'SAN,SMF'), 10.0, 301734.0, -2.5144989602419577e-08],\n",
       " [('LGA,MSY', 'MSY,JFK'), 10.0, 302332.0, -2.5647924871352558e-08],\n",
       " [('CMH,ATL', 'ATL,TPA'), 26.0, 2056008.0, -2.6667810764904156e-08],\n",
       " [('TPA,MSY', 'MSY,LAS'), 9.0, 236004.0, -2.7071384600010196e-08],\n",
       " [('BOI,SFO', 'SFO,LIH'), 8.0, 178354.0, -3.087868337893573e-08],\n",
       " [('SEA,DAL', 'DAL,DFW'), 6.0, 82061.0, -3.189233263882015e-08],\n",
       " [('GEG,PDX', 'PDX,OGG'), 11.0, 389168.0, -3.609788865150095e-08],\n",
       " [('IAH,CLT', 'CLT,CHO'), 11.0, 391475.0, -3.845523239231485e-08],\n",
       " [('STL,SFO', 'SFO,MDW'), 5.0, 50240.0, -4.3779294191984166e-08],\n",
       " [('PDX,AUS', 'AUS,SEA'), 7.0, 131636.0, -4.4224444172562325e-08],\n",
       " [('ATW,DTW', 'DTW,MDT'), 6.0, 87005.0, -4.728815461308814e-08],\n",
       " [('OGG,DFW', 'DFW,STL'), 10.0, 324364.0, -5.170027439659173e-08],\n",
       " [('DTW,DFW', 'DFW,BRO'), 8.0, 191460.0, -5.601958032496862e-08],\n",
       " [('SFO,DFW', 'DFW,CLE'), 13.0, 582244.0, -5.7355380245910336e-08],\n",
       " [('PNS,ATL', 'ATL,DTW'), 17.0, 995877.0, -5.7805677113570834e-08],\n",
       " [('IND,MCI', 'MCI,SAN'), 7.0, 136471.0, -5.8110132190422825e-08],\n",
       " [('ATL,MSP', 'MSP,ANC'), 13.0, 583194.0, -5.849277499541272e-08],\n",
       " [('DAL,DFW', 'DFW,SEA'), 6.0, 91702.0, -6.732072938102268e-08],\n",
       " [('JAX,STL', 'STL,BHM'), 1.0, 103.0, -6.924385609466975e-08],\n",
       " [('SAN,ATL', 'ATL,ORF'), 13.0, 594195.0, -7.323136918865146e-08],\n",
       " [('DFW,HOU', 'HOU,IAH'), 7.0, 141252.0, -7.537477532632215e-08],\n",
       " [('SAN,SEA', 'SEA,RDM'), 13.0, 596206.0, -7.626238860922968e-08],\n",
       " [('OGG,OAK', 'OAK,HNL'), 4.0, 27912.0, -8.187990870773166e-08],\n",
       " [('SMF,LAS', 'LAS,MSY'), 9.0, 266886.0, -8.368305460867108e-08],\n",
       " [('ISN,DEN', 'DEN,IAH'), 9.0, 267057.0, -8.41736345892804e-08],\n",
       " [('CLT,AUS', 'AUS,DFW'), 18.0, 1138683.0, -8.52513582245971e-08],\n",
       " [('SJU,BNA', 'BNA,SDF'), 1.0, 115.0, -8.640401601975989e-08],\n",
       " [('OGG,SFO', 'SFO,MSP'), 17.0, 1029929.0, -9.430020703514458e-08],\n",
       " [('BOS,PHL', 'PHL,SJU'), 12.0, 513735.0, -9.484605434246926e-08],\n",
       " [('MDW,BNA', 'BNA,PNS'), 10.0, 345024.0, -9.525038883159348e-08],\n",
       " [('DAB,ATL', 'ATL,DTW'), 14.0, 714025.0, -1.0952736441480177e-07],\n",
       " [('TUS,DEN', 'DEN,MSN'), 9.0, 275224.0, -1.1076094923379205e-07],\n",
       " [('SMF,LAX', 'LAX,TUS'), 14.0, 715965.0, -1.133343799752652e-07],\n",
       " [('MOT,DEN', 'DEN,IAH'), 8.0, 209001.0, -1.1648164013004436e-07],\n",
       " [('PSE,MCO', 'MCO,PNS'), 2.0, 2461.0, -1.179954322297717e-07],\n",
       " [('PBI,DFW', 'DFW,EGE'), 6.0, 100453.0, -1.2394569550513791e-07],\n",
       " [('FNT,MDW', 'MDW,TPA'), 8.0, 211547.0, -1.28824352871079e-07],\n",
       " [('MCO,STL', 'STL,OMA'), 11.0, 439645.0, -1.3190409417548097e-07],\n",
       " [('DCA,DEN', 'DEN,SLC'), 14.0, 727323.0, -1.3813043370898629e-07],\n",
       " [('DFW,MSP', 'MSP,BRD'), 5.0, 61612.0, -1.4377131720884781e-07],\n",
       " [('IAD,BWI', 'BWI,SEA'), 4.0, 31930.0, -1.5847851156263483e-07],\n",
       " [('MKE,DEN', 'DEN,SAN'), 13.0, 634282.0, -1.5968597608325348e-07],\n",
       " [('ONT,LGA', 'LGA,SMF'), 1.0, 159.0, -1.6555382136690186e-07],\n",
       " [('SFO,ORD', 'ORD,RIC'), 14.0, 739687.0, -1.706188838396929e-07],\n",
       " [('AUS,PHX', 'PHX,LAS'), 20.0, 1445665.0, -1.7806355157175988e-07],\n",
       " [('SNA,PDX', 'PDX,EUG'), 9.0, 290645.0, -1.8164886448115608e-07],\n",
       " [('DAL,FLL', 'FLL,HOU'), 5.0, 64380.0, -1.855517039405426e-07],\n",
       " [('LAS,DEN', 'DEN,ALB'), 9.0, 291471.0, -1.863733640633408e-07],\n",
       " [('BWI,IAH', 'IAH,HNL'), 7.0, 161038.0, -2.0190551081827115e-07],\n",
       " [('PDX,CLT', 'CLT,SJU'), 6.0, 108897.0, -2.1233500877466238e-07],\n",
       " [('DEN,ORD', 'ORD,AVL'), 7.0, 162821.0, -2.1924169886301438e-07],\n",
       " [('PHX,CLT', 'CLT,RDU'), 25.0, 2149922.0, -2.2572548335163233e-07],\n",
       " [('ASE,DFW', 'DFW,MIA'), 7.0, 164127.0, -2.3273548951973897e-07],\n",
       " [('RDU,LAS', 'LAS,SJC'), 8.0, 227373.0, -2.342621824957902e-07],\n",
       " [('PDX,EWR', 'EWR,JFK'), 7.0, 164316.0, -2.3474599337225844e-07],\n",
       " [('FLL,MSP', 'MSP,PSC'), 4.0, 34904.0, -2.451695867378469e-07],\n",
       " [('DFW,SMF', 'SMF,CLT'), 10.0, 380003.0, -2.4552054409916993e-07],\n",
       " [('HNL,SEA', 'SEA,DTW'), 13.0, 659754.0, -2.544431885944639e-07],\n",
       " [('ABQ,DCA', 'DCA,DAL'), 3.0, 14078.0, -2.7301164424622593e-07],\n",
       " [('FLL,MCO', 'MCO,CMH'), 10.0, 384407.0, -2.746825402414999e-07],\n",
       " [('LGA,DEN', 'DEN,JFK'), 7.0, 168969.0, -2.891620223506887e-07],\n",
       " [('BRO,DFW', 'DFW,DTW'), 8.0, 233647.0, -2.93267068089559e-07],\n",
       " [('PIT,MSP', 'MSP,PDX'), 8.0, 233892.0, -2.9581141049046043e-07],\n",
       " [('FLL,MDW', 'MDW,GRR'), 8.0, 234631.0, -3.0360234703668286e-07],\n",
       " [('FAR,DEN', 'DEN,PHX'), 10.0, 389494.0, -3.121440390079239e-07],\n",
       " [('DTW,SEA', 'SEA,OGG'), 13.0, 672193.0, -3.170017170848248e-07],\n",
       " [('CLT,SEA', 'SEA,MIA'), 2.0, 3447.0, -3.234746382358108e-07],\n",
       " [('LAN,DTW', 'DTW,ATL'), 11.0, 480521.0, -3.3472551375760894e-07],\n",
       " [('MCO,IAH', 'IAH,SAN'), 16.0, 1011802.0, -3.6159205060752604e-07],\n",
       " [('MDW,CLT', 'CLT,HOU'), 2.0, 3582.0, -3.628672934064683e-07],\n",
       " [('ORD,MDW', 'MDW,MSP'), 10.0, 395870.0, -3.654276269606339e-07],\n",
       " [('ONT,LAX', 'LAX,MDW'), 3.0, 15296.0, -3.791488548654773e-07],\n",
       " [('RIC,IAH', 'IAH,JAC'), 2.0, 3646.0, -3.8260603962705334e-07],\n",
       " [('EWR,BWI', 'BWI,ORD'), 5.0, 72983.0, -3.8346503983266773e-07],\n",
       " [('DAL,PHX', 'PHX,LIT'), 4.0, 38422.0, -3.9209705548407375e-07],\n",
       " [('JFK,SLC', 'SLC,ASE'), 7.0, 176198.0, -3.950358390294024e-07],\n",
       " [('BOS,PHX', 'PHX,PSP'), 10.0, 399416.0, -3.9840931982750714e-07],\n",
       " [('IAD,ORD', 'ORD,SJC'), 7.0, 176500.0, -4.0009795560560435e-07],\n",
       " [('BIL,SLC', 'SLC,PHX'), 14.0, 793766.0, -4.099158432571367e-07],\n",
       " [('LIH,LAX', 'LAX,ORD'), 21.0, 1658990.0, -4.1690527291411366e-07],\n",
       " [('SEA,SJC', 'SJC,TUS'), 10.0, 401446.0, -4.184501653165402e-07],\n",
       " [('SAN,PHX', 'PHX,IND'), 13.0, 689196.0, -4.2482988360379735e-07],\n",
       " [('RDU,DFW', 'DFW,SJC'), 9.0, 319714.0, -4.2847949598269465e-07],\n",
       " [('PHX,CLT', 'CLT,BDL'), 19.0, 1397130.0, -4.307184233732111e-07],\n",
       " [('EGE,DFW', 'DFW,MIA'), 7.0, 178399.0, -4.33218312579792e-07],\n",
       " [('LAX,SLC', 'SLC,BZN'), 16.0, 1026249.0, -4.3818135230679465e-07],\n",
       " [('SAN,PHX', 'PHX,EGE'), 5.0, 74732.0, -4.3962738601288413e-07],\n",
       " [('HOU,MSY', 'MSY,SAT'), 8.0, 245615.0, -4.42258050750329e-07],\n",
       " [('LAS,HNL', 'HNL,OGG'), 23.0, 1943079.0, -4.4586352677401217e-07],\n",
       " [('MIA,BWI', 'BWI,JFK'), 3.0, 15965.0, -4.4909550952838024e-07],\n",
       " [('ABQ,SAN', 'SAN,SJC'), 7.0, 179619.0, -4.557104425674797e-07],\n",
       " [('RNO,SJC', 'SJC,OGG'), 5.0, 75271.0, -4.5823359120186277e-07],\n",
       " [('MDW,EWR', 'EWR,STL'), 6.0, 122604.0, -4.662864728280599e-07],\n",
       " [('OKC,DAL', 'DAL,MCO'), 11.0, 496305.0, -4.681649359408318e-07],\n",
       " [('ECP,BWI', 'BWI,DEN'), 5.0, 75961.0, -4.82989469905409e-07],\n",
       " [('CLT,ORD', 'ORD,SUX'), 6.0, 123550.0, -4.905951273811288e-07],\n",
       " [('PDX,SFO', 'SFO,PSP'), 16.0, 1040771.0, -5.297270206982827e-07],\n",
       " [('HOU,CLT', 'CLT,MDW'), 2.0, 4128.0, -5.546167805214167e-07],\n",
       " [('JAX,ATL', 'ATL,LAS'), 24.0, 2112686.0, -5.604679532153657e-07],\n",
       " [('DFW,PHX', 'PHX,YUM'), 13.0, 705944.0, -5.621469710182675e-07],\n",
       " [('HOU,BHM', 'BHM,DAL'), 6.0, 126359.0, -5.691388780124303e-07],\n",
       " [('PVD,BWI', 'BWI,RSW'), 15.0, 929013.0, -5.726118148578685e-07],\n",
       " [('ABQ,MCO', 'MCO,HOU'), 3.0, 17023.0, -5.787427101783503e-07],\n",
       " [('MCO,HOU', 'HOU,OKC'), 13.0, 708445.0, -5.857560117262263e-07],\n",
       " [('BRD,MSP', 'MSP,DFW'), 5.0, 78912.0, -6.01570964695371e-07],\n",
       " [('BFL,DEN', 'DEN,MOT'), 3.0, 17330.0, -6.210858259886821e-07],\n",
       " [('JFK,TPA', 'TPA,LGA'), 10.0, 418449.0, -6.244453453740701e-07],\n",
       " [('MSP,SLC', 'SLC,HNL'), 10.0, 418995.0, -6.323289539434976e-07],\n",
       " [('OKC,CLT', 'CLT,LGA'), 9.0, 334502.0, -6.416669980686846e-07],\n",
       " [('ONT,PHX', 'PHX,MCI'), 14.0, 824164.0, -6.503383055635876e-07],\n",
       " [('LYH,CLT', 'CLT,DFW'), 11.0, 514717.0, -6.819293313119533e-07],\n",
       " [('ANC,SEA', 'SEA,SLC'), 29.0, 2894928.0, -6.881614898315848e-07],\n",
       " [('MKE,DEN', 'DEN,TUS'), 10.0, 422855.0, -6.906100257423146e-07],\n",
       " [('LAS,AUS', 'AUS,HRL'), 5.0, 80829.0, -6.906473661731574e-07],\n",
       " [('FSD,MSP', 'MSP,RSW'), 9.0, 337351.0, -6.919896826915013e-07],\n",
       " [('TPA,ATL', 'ATL,MKE'), 21.0, 1713224.0, -7.026606896107316e-07],\n",
       " [('RDU,IAH', 'IAH,HNL'), 6.0, 130653.0, -7.094599933343021e-07],\n",
       " [('DEN,ORD', 'ORD,ABE'), 7.0, 191138.0, -7.221568119731113e-07],\n",
       " [('MHT,DCA', 'DCA,HSV'), 4.0, 43553.0, -7.22568324240692e-07],\n",
       " [('SBP,PHX', 'PHX,CLT'), 9.0, 339292.0, -7.282183257596282e-07],\n",
       " [('BNA,STL', 'STL,ICT'), 8.0, 261684.0, -7.426390393372218e-07],\n",
       " [('MDW,LAX', 'LAX,BWI'), 5.0, 82116.0, -7.562944798159744e-07],\n",
       " [('CLT,IAH', 'IAH,DFW'), 20.0, 1585498.0, -7.674249441485786e-07],\n",
       " [('EUG,PDX', 'PDX,SNA'), 9.0, 341549.0, -7.724194789873025e-07],\n",
       " [('BTV,DCA', 'DCA,TPA'), 7.0, 193570.0, -7.92828498137082e-07],\n",
       " [('SEA,MCO', 'MCO,PDX'), 6.0, 132904.0, -7.939171612708792e-07],\n",
       " [('SFO,FLL', 'FLL,LAX'), 9.0, 344095.0, -8.250770587439824e-07],\n",
       " [('SJC,PHX', 'PHX,SAT'), 15.0, 957810.0, -8.468585556476647e-07],\n",
       " [('LAS,MDW', 'MDW,MHT'), 11.0, 525745.0, -8.479177730245423e-07],\n",
       " [('DCA,ORD', 'ORD,SAN'), 18.0, 1330366.0, -8.532850245651288e-07],\n",
       " [('ORD,LGA', 'LGA,EWR'), 18.0, 1332797.0, -8.761307754008576e-07],\n",
       " [('MSP,MCO', 'MCO,RSW'), 8.0, 267655.0, -8.924165339498354e-07],\n",
       " [('ASE,ORD', 'ORD,LGA'), 11.0, 529499.0, -9.120822499845369e-07],\n",
       " [('DAL,DTW', 'DTW,MDW'), 4.0, 45893.0, -9.321008643030948e-07],\n",
       " [('RAP,DFW', 'DFW,MCO'), 7.0, 198903.0, -9.68710799131246e-07],\n",
       " [('BWI,LAS', 'LAS,MDW'), 11.0, 532694.0, -9.700424324442802e-07],\n",
       " [('OAK,DEN', 'DEN,MKE'), 7.0, 198950.0, -9.703975952667069e-07],\n",
       " [('PDX,RNO', 'RNO,BOI'), 6.0, 137060.0, -9.720575974186621e-07],\n",
       " [('INL,MSP', 'MSP,LAS'), 4.0, 46437.0, -9.870532294248676e-07],\n",
       " [('CPR,DEN', 'DEN,MAF'), 4.0, 46488.0, -9.92333076351777e-07],\n",
       " [('BWI,LAX', 'LAX,MDW'), 6.0, 137665.0, -1.0005831627504715e-06],\n",
       " [('PHX,KOA', 'KOA,DFW'), 12.0, 638651.0, -1.0592217386128642e-06],\n",
       " [('LGB,LAX', 'LAX,EGE'), 1.0, 403.0, -1.0669886388816556e-06],\n",
       " [('MSP,LAX', 'LAX,OGG'), 16.0, 1098401.0, -1.0896750421996654e-06],\n",
       " [('HOU,DCA', 'DCA,DAL'), 5.0, 87986.0, -1.1238842511579118e-06],\n",
       " [('MDT,DTW', 'DTW,ATW'), 5.0, 88200.0, -1.1396310441713563e-06],\n",
       " [('BNA,LAX', 'LAX,LGA'), 2.0, 5300.0, -1.1702712596146027e-06],\n",
       " [('TUL,PHX', 'PHX,PDX'), 7.0, 204268.0, -1.1781810501077562e-06],\n",
       " [('LGA,JFK', 'JFK,MIA'), 12.0, 645078.0, -1.1809397784657403e-06],\n",
       " [('MIA,TPA', 'TPA,CLT'), 13.0, 753624.0, -1.1966147104001065e-06],\n",
       " [('COS,DFW', 'DFW,VPS'), 8.0, 277706.0, -1.203736583871979e-06],\n",
       " [('PDX,LAS', 'LAS,SEA'), 15.0, 985745.0, -1.2209152811220165e-06],\n",
       " [('JFK,DFW', 'DFW,LGA'), 7.0, 205684.0, -1.2394993798584231e-06],\n",
       " [('RDU,IAH', 'IAH,TUS'), 5.0, 89824.0, -1.2651043789031937e-06],\n",
       " [('CLT,DFW', 'DFW,COS'), 15.0, 988865.0, -1.2708044133415622e-06],\n",
       " [('LAS,MSP', 'MSP,INL'), 4.0, 48941.0, -1.2738316443768653e-06],\n",
       " [('MKE,MCI', 'MCI,SAT'), 6.0, 144041.0, -1.3463609876261665e-06],\n",
       " [('MCI,STL', 'STL,CMH'), 10.0, 453668.0, -1.3527285102697366e-06],\n",
       " [('DCA,CLT', 'CLT,AUS'), 11.0, 550828.0, -1.3651329896416522e-06],\n",
       " [('MCI,DFW', 'DFW,PSP'), 8.0, 282856.0, -1.3967449113695366e-06],\n",
       " [('YUM,PHX', 'PHX,DFW'), 11.0, 552736.0, -1.414012103216537e-06],\n",
       " [('DFW,MCO', 'MCO,PHX'), 14.0, 878645.0, -1.4147216576481508e-06],\n",
       " [('OGG,SEA', 'SEA,DTW'), 11.0, 553342.0, -1.4298571095737818e-06],\n",
       " [('MCO,MSP', 'MSP,GFK'), 10.0, 456782.0, -1.4435826852664315e-06],\n",
       " [('DFW,IAH', 'IAH,CLT'), 19.0, 1514892.0, -1.454719803496586e-06],\n",
       " [('BWI,MSY', 'MSY,TPA'), 8.0, 284771.0, -1.4750278976446824e-06],\n",
       " [('BUF,ATL', 'ATL,DAB'), 8.0, 285005.0, -1.4848480036533363e-06],\n",
       " [('OGG,SFO', 'SFO,ORD'), 25.0, 2386421.0, -1.5071820132590833e-06],\n",
       " [('ACY,FLL', 'FLL,BQN'), 3.0, 21814.0, -1.539169104379319e-06],\n",
       " [('DTW,ATL', 'ATL,JAN'), 11.0, 557656.0, -1.5472652577636682e-06],\n",
       " [('SNA,DFW', 'DFW,STL'), 14.0, 885426.0, -1.5519165198372277e-06],\n",
       " [('PSP,DEN', 'DEN,EWR'), 10.0, 461414.0, -1.588640045283007e-06],\n",
       " [('AUS,DAL', 'DAL,IND'), 12.0, 663382.0, -1.5986092446675216e-06],\n",
       " [('MSN,DEN', 'DEN,SBP'), 3.0, 22096.0, -1.6189986231456317e-06],\n",
       " [('DCA,ATL', 'ATL,MGM'), 8.0, 288268.0, -1.6277747320078017e-06],\n",
       " [('PHX,IAH', 'IAH,CVG'), 8.0, 288652.0, -1.6453495870096802e-06],\n",
       " [('AUS,PHX', 'PHX,ONT'), 17.0, 1261017.0, -1.6455891749014507e-06],\n",
       " [('LAX,CLT', 'CLT,CHS'), 16.0, 1133827.0, -1.658278087606218e-06],\n",
       " [('FLL,PHL', 'PHL,CAK'), 6.0, 148764.0, -1.6625656932829744e-06],\n",
       " [('PHL,MIA', 'MIA,EYW'), 12.0, 665849.0, -1.6639281071415996e-06],\n",
       " [('CMH,FLL', 'FLL,MCO'), 8.0, 290848.0, -1.7490313061657726e-06],\n",
       " [('DAL,RDU', 'RDU,HOU'), 3.0, 22556.0, -1.7557548312767847e-06],\n",
       " [('SAN,IAH', 'IAH,MCO'), 14.0, 895278.0, -1.772529053972222e-06],\n",
       " [('MSY,ATL', 'ATL,PHL'), 19.0, 1535596.0, -1.7785494680240363e-06],\n",
       " [('DAL,PHL', 'PHL,BNA'), 4.0, 52457.0, -1.7830817054018544e-06],\n",
       " [('MCO,OKC', 'OKC,OAK'), 1.0, 522.0, -1.7906552929525484e-06],\n",
       " [('PHL,PHX', 'PHX,SAN'), 19.0, 1536976.0, -1.802302206254939e-06],\n",
       " [('IAH,SFO', 'SFO,RDM'), 7.0, 216827.0, -1.8242046160778892e-06],\n",
       " [('SNA,LAS', 'LAS,BNA'), 8.0, 292381.0, -1.8247034006510017e-06],\n",
       " [('GCC,DEN', 'DEN,IAH'), 6.0, 150945.0, -1.8282695664510328e-06],\n",
       " [('SEA,DTW', 'DTW,CLE'), 11.0, 568083.0, -1.8669175836823185e-06],\n",
       " [('SYR,ORD', 'ORD,SNA'), 8.0, 293335.0, -1.8732046267026962e-06],\n",
       " [('EWR,LGA', 'LGA,IAH'), 11.0, 568310.0, -1.874480936372651e-06],\n",
       " [('ALB,BDL', 'BDL,MCI'), 1.0, 535.0, -1.880984246414463e-06],\n",
       " [('IAH,RSW', 'RSW,DEN'), 6.0, 152033.0, -1.915955086874793e-06],\n",
       " [('MSN,DEN', 'DEN,TUS'), 8.0, 294612.0, -1.9398624424477825e-06],\n",
       " [('OAK,TUS', 'TUS,SAN'), 3.0, 23184.0, -1.956059763823704e-06],\n",
       " [('PDX,SEA', 'SEA,MCO'), 15.0, 1024252.0, -1.9798398614428273e-06],\n",
       " [('SRQ,ATL', 'ATL,CAK'), 8.0, 295684.0, -1.99738686080954e-06],\n",
       " [('DAL,SAT', 'SAT,HOU'), 14.0, 904395.0, -2.0012944824068163e-06],\n",
       " [('SAN,LAS', 'LAS,MKE'), 10.0, 473116.0, -2.0135443856366264e-06],\n",
       " [('PBI,MSP', 'MSP,LNK'), 2.0, 6374.0, -2.029868168756925e-06],\n",
       " [('RSW,MDW', 'MDW,GRR'), 8.0, 296376.0, -2.0352951597389453e-06],\n",
       " [('MIA,IAH', 'IAH,LAX'), 19.0, 1552113.0, -2.08243690839419e-06],\n",
       " [('RNO,JAX', 'JAX,LAS'), 1.0, 565.0, -2.097906767973639e-06],\n",
       " [('DFW,DAL', 'DAL,SEA'), 5.0, 98473.0, -2.1382788733085905e-06],\n",
       " [('DAL,DEN', 'DEN,HOU'), 5.0, 98565.0, -2.1496819834747737e-06],\n",
       " [('FLL,DCA', 'DCA,OMA'), 4.0, 54551.0, -2.1549241666645957e-06],\n",
       " [('HOU,LGA', 'LGA,DAL'), 5.0, 98885.0, -2.189731692734124e-06],\n",
       " [('MKE,BNA', 'BNA,SAT'), 8.0, 299375.0, -2.206831608186039e-06],\n",
       " [('MSP,LAX', 'LAX,LIH'), 13.0, 795599.0, -2.2211315013630485e-06],\n",
       " [('CVG,IAH', 'IAH,PHX'), 9.0, 385351.0, -2.2376137211724247e-06],\n",
       " [('ANC,DEN', 'DEN,HSV'), 2.0, 6629.0, -2.2818253218275403e-06],\n",
       " [('ALB,MDW', 'MDW,LAS'), 11.0, 579562.0, -2.2850234008420786e-06],\n",
       " [('PHL,MSY', 'MSY,CLT'), 12.0, 686060.0, -2.2948857755940352e-06],\n",
       " [('OGG,SJC', 'SJC,HNL'), 4.0, 55756.0, -2.3949827287803773e-06],\n",
       " [('BQN,FLL', 'FLL,ACY'), 3.0, 24540.0, -2.44583690194005e-06],\n",
       " [('LGB,SNA', 'SNA,BOI'), 1.0, 611.0, -2.453473677520425e-06],\n",
       " [('IND,DFW', 'DFW,SAN'), 12.0, 691415.0, -2.494162839095564e-06],\n",
       " [('SNA,DEN', 'DEN,FSD'), 8.0, 304577.0, -2.533965682839016e-06],\n",
       " [('MFE,DFW', 'DFW,SUX'), 3.0, 24863.0, -2.5747705268860896e-06],\n",
       " [('MSN,ATL', 'ATL,VLD'), 4.0, 56638.0, -2.583638854126262e-06],\n",
       " [('MIA,SEA', 'SEA,CLT'), 2.0, 6932.0, -2.6071423329848e-06],\n",
       " [('CMH,ORD', 'ORD,SEA'), 14.0, 926623.0, -2.6736352585254183e-06],\n",
       " [('LAX,PHL', 'PHL,ITH'), 8.0, 307129.0, -2.709144805112505e-06],\n",
       " [('SRQ,ORD', 'ORD,MSP'), 7.0, 229603.0, -2.7685538786029513e-06],\n",
       " [('MAF,DEN', 'DEN,VEL'), 1.0, 650.0, -2.776690586787143e-06],\n",
       " [('DTW,SLC', 'SLC,RNO'), 13.0, 813911.0, -2.8731998415033557e-06],\n",
       " [('PSP,PHX', 'PHX,BOS'), 10.0, 491628.0, -2.889996245564847e-06],\n",
       " [('HNL,SFO', 'SFO,LAS'), 20.0, 1729550.0, -2.9150344229209537e-06],\n",
       " [('CLE,EWR', 'EWR,FLL'), 8.0, 310964.0, -2.9919452906309793e-06],\n",
       " [('SFO,PHX', 'PHX,PIT'), 9.0, 398853.0, -3.0215065433192886e-06],\n",
       " [('MDW,OMA', 'OMA,STL'), 9.0, 398996.0, -3.0309433341609205e-06],\n",
       " [('BUR,OKC', 'OKC,LAS'), 2.0, 7302.0, -3.0442978833705408e-06],\n",
       " [('CLT,SEA', 'SEA,PHL'), 4.0, 58601.0, -3.04546429660222e-06],\n",
       " [('ATL,DTW', 'DTW,LAN'), 10.0, 494384.0, -3.0455838276349257e-06],\n",
       " [('AZO,ORD', 'ORD,DFW'), 7.0, 232826.0, -3.0634594377551685e-06],\n",
       " [('OMA,MCO', 'MCO,MDW'), 4.0, 58863.0, -3.111703168269761e-06],\n",
       " [('SAN,PHX', 'PHX,CMH'), 11.0, 597857.0, -3.1230964504377765e-06],\n",
       " [('DAL,BHM', 'BHM,HOU'), 6.0, 165238.0, -3.2925058412341688e-06],\n",
       " [('AUS,DCA', 'DCA,DAL'), 4.0, 59831.0, -3.3663039553530013e-06],\n",
       " [('ABQ,DTW', 'DTW,DAL'), 1.0, 717.0, -3.37855754094544e-06],\n",
       " [('LIH,PHX', 'PHX,OMA'), 6.0, 166071.0, -3.401532366455838e-06],\n",
       " [('RAP,MSP', 'MSP,ATL'), 9.0, 404427.0, -3.408814530506234e-06],\n",
       " [('PDX,DFW', 'DFW,DAL'), 4.0, 60058.0, -3.4283085584676937e-06],\n",
       " [('BNA,PHL', 'PHL,ECP'), 2.0, 7611.0, -3.4445238260625174e-06],\n",
       " [('MSP,DTW', 'DTW,ABE'), 7.0, 236635.0, -3.4459397170823704e-06],\n",
       " [('RSW,ATL', 'ATL,MKE'), 17.0, 1332216.0, -3.475078561964847e-06],\n",
       " [('CAK,ORD', 'ORD,SAN'), 6.0, 166792.0, -3.4983129888864845e-06],\n",
       " [('SGU,LAX', 'LAX,LIH'), 3.0, 26969.0, -3.542776230264512e-06],\n",
       " [('PHX,DAL', 'DAL,BOS'), 7.0, 237977.0, -3.589996992869942e-06],\n",
       " [('DAB,ATL', 'ATL,ALB'), 6.0, 167673.0, -3.6196744699058796e-06],\n",
       " [('LAX,ORD', 'ORD,GRR'), 19.0, 1612439.0, -3.63596520178438e-06],\n",
       " [('STL,PHX', 'PHX,SNA'), 13.0, 831511.0, -3.6552528458568834e-06],\n",
       " [('DAL,TPA', 'TPA,HOU'), 5.0, 108255.0, -3.6620537390973635e-06],\n",
       " [('JAX,DFW', 'DFW,SAN'), 10.0, 504265.0, -3.6653269968256216e-06],\n",
       " [('MCO,SAT', 'SAT,OKC'), 2.0, 7803.0, -3.7099354619670724e-06],\n",
       " [('GRB,MSP', 'MSP,SNA'), 6.0, 168903.0, -3.7949621721419717e-06],\n",
       " [('DEN,IAH', 'IAH,VPS'), 7.0, 240189.0, -3.838582320668218e-06],\n",
       " [('BTV,PHL', 'PHL,MCO'), 10.0, 506885.0, -3.8470906276871995e-06],\n",
       " [('HNL,LAX', 'LAX,SLC'), 31.0, 3500058.0, -3.966035841988424e-06],\n",
       " [('HNL,DFW', 'DFW,STL'), 9.0, 412030.0, -4.006144627288439e-06],\n",
       " [('SLC,SAT', 'SAT,LAX'), 8.0, 322745.0, -4.025033006056293e-06],\n",
       " [('DCA,IAD', 'IAD,MSP'), 7.0, 242165.0, -4.072830214552842e-06],\n",
       " [('BWI,ORD', 'ORD,JAC'), 5.0, 110734.0, -4.1629201455715e-06],\n",
       " [('PHX,DFW', 'DFW,BNA'), 14.0, 962162.0, -4.173812015948739e-06],\n",
       " [('FLL,IAH', 'IAH,ASE'), 5.0, 110903.0, -4.198994230346806e-06],\n",
       " [('HOU,BOS', 'BOS,STL'), 4.0, 62790.0, -4.247276595296221e-06],\n",
       " [('DFW,AUS', 'AUS,CLT'), 15.0, 1089175.0, -4.253965747213007e-06],\n",
       " [('STL,BNA', 'BNA,RDU'), 9.0, 415459.0, -4.3039414311210745e-06],\n",
       " [('HOU,SAN', 'SAN,DAL'), 6.0, 172237.0, -4.305993477690696e-06],\n",
       " [('SNA,ATL', 'ATL,ROA'), 5.0, 111472.0, -4.322323068546293e-06],\n",
       " [('CLT,MCO', 'MCO,PHL'), 23.0, 2223686.0, -4.335319274993996e-06],\n",
       " [('MCI,MDW', 'MDW,CMH'), 11.0, 618222.0, -4.364340726313985e-06],\n",
       " [('PHX,PHL', 'PHL,PWM'), 12.0, 729591.0, -4.418247700372836e-06],\n",
       " [('HOU,PHL', 'PHL,DAL'), 1.0, 820.0, -4.41864246482142e-06],\n",
       " [('EWR,ORD', 'ORD,OKC'), 9.0, 417191.0, -4.461517369583028e-06],\n",
       " [('DCA,ORD', 'ORD,FSD'), 9.0, 417748.0, -4.513243464763394e-06],\n",
       " [('LGA,JFK', 'JFK,DEN'), 12.0, 732251.0, -4.591546692846756e-06],\n",
       " [('MCO,AUS', 'AUS,SJC'), 5.0, 113017.0, -4.672113263498499e-06],\n",
       " [('SAV,ORD', 'ORD,BOI'), 2.0, 8441.0, -4.688377889850213e-06],\n",
       " [('LAS,PHX', 'PHX,ELP'), 15.0, 1097901.0, -4.693500462085886e-06],\n",
       " [('MFR,PHX', 'PHX,DFW'), 5.0, 113576.0, -4.804194640799684e-06],\n",
       " [('PSP,PHX', 'PHX,MIA'), 7.0, 247812.0, -4.8100893369001895e-06],\n",
       " [('FAT,DEN', 'DEN,ICT'), 3.0, 29245.0, -4.86672930145531e-06],\n",
       " [('DEN,PNS', 'PNS,OAK'), 1.0, 866.0, -4.9280700211037665e-06],\n",
       " [('JFK,ORD', 'ORD,LGA'), 9.0, 422064.0, -4.9319677522617165e-06],\n",
       " [('IAD,MSP', 'MSP,SJC'), 4.0, 64875.0, -4.96961592363085e-06],\n",
       " [('MSP,ATL', 'ATL,PNS'), 15.0, 1103105.0, -4.9745693988004046e-06],\n",
       " [('OMA,STL', 'STL,MCO'), 10.0, 521306.0, -4.9955600870568535e-06],\n",
       " [('TPA,DTW', 'DTW,TVC'), 8.0, 332365.0, -5.08252959861461e-06],\n",
       " [('EWR,LGA', 'LGA,ORD'), 21.0, 1942827.0, -5.09951621983459e-06],\n",
       " [('EWR,DCA', 'DCA,IAD'), 6.0, 177072.0, -5.147890253831972e-06],\n",
       " [('ROC,ATL', 'ATL,PNS'), 7.0, 250350.0, -5.176502178003753e-06],\n",
       " [('PHL,SJU', 'SJU,CLT'), 16.0, 1238043.0, -5.200775505494329e-06],\n",
       " [('RNO,TPA', 'TPA,LAS'), 1.0, 892.0, -5.228271923136376e-06],\n",
       " [('SJC,DAL', 'DAL,DTW'), 5.0, 115378.0, -5.250772378995836e-06],\n",
       " [('PDX,TUS', 'TUS,SJC'), 3.0, 29858.0, -5.278431783914914e-06],\n",
       " [('KOA,PHX', 'PHX,STL'), 6.0, 177837.0, -5.292848974562292e-06],\n",
       " [('TYS,DEN', 'DEN,PSC'), 2.0, 8795.0, -5.2983026125587075e-06],\n",
       " [('CHA,CLT', 'CLT,DEN'), 8.0, 334229.0, -5.312830794400257e-06],\n",
       " [('GEG,ORD', 'ORD,ORF'), 3.0, 29928.0, -5.327029071139021e-06],\n",
       " [('SLC,SEA', 'SEA,LIH'), 10.0, 525165.0, -5.349538312616501e-06],\n",
       " [('CVG,LAS', 'LAS,SLC'), 10.0, 525299.0, -5.362213183881976e-06],\n",
       " [('MSY,BNA', 'BNA,MKE'), 10.0, 525433.0, -5.37491424830469e-06],\n",
       " [('DFW,MEM', 'MEM,PHX'), 9.0, 426647.0, -5.41301669548285e-06],\n",
       " [('ITH,DTW', 'DTW,SFO'), 6.0, 178671.0, -5.4547327818462925e-06],\n",
       " [('ORD,FLL', 'FLL,MIA'), 11.0, 632595.0, -5.483682381457921e-06],\n",
       " [('LGA,ORD', 'ORD,SMF'), 9.0, 427340.0, -5.489178937155289e-06],\n",
       " [('CLT,TPA', 'TPA,PHL'), 18.0, 1517558.0, -5.512354458048521e-06],\n",
       " [('DAL,SMF', 'SMF,HOU'), 2.0, 8924.0, -5.532963185808417e-06],\n",
       " [('PHX,BUF', 'BUF,MDW'), 4.0, 66475.0, -5.586489959144467e-06],\n",
       " [('DFW,DCA', 'DCA,ALB'), 9.0, 428566.0, -5.626192011104143e-06],\n",
       " [('SNA,SEA', 'SEA,GEG'), 19.0, 1662686.0, -5.661823462154073e-06],\n",
       " [('DFW,RNO', 'RNO,ORD'), 8.0, 337117.0, -5.68729512931918e-06],\n",
       " [('EVV,ATL', 'ATL,OGG'), 1.0, 932.0, -5.707412542597834e-06],\n",
       " [('DFW,TPA', 'TPA,PHX'), 10.0, 528984.0, -5.721196735126691e-06],\n",
       " [('DFW,CLT', 'CLT,HTS'), 6.0, 180061.0, -5.7336784347403095e-06],\n",
       " [('IND,ATL', 'ATL,TPA'), 21.0, 1959331.0, -5.806088898919573e-06],\n",
       " [('MIA,JFK', 'JFK,LGA'), 9.0, 430358.0, -5.83177912479548e-06],\n",
       " [('CLT,SLC', 'SLC,DFW'), 9.0, 430575.0, -5.857110040788734e-06],\n",
       " [('LAS,SLC', 'SLC,BIL'), 12.0, 749454.0, -5.864768757243896e-06],\n",
       " [('SMF,PHX', 'PHX,ABQ'), 14.0, 990574.0, -5.871788139220887e-06],\n",
       " [('SYR,CLT', 'CLT,RSW'), 10.0, 530564.0, -5.881424377049187e-06],\n",
       " [('OAJ,CLT', 'CLT,PHX'), 11.0, 637140.0, -5.886569649134988e-06],\n",
       " [('ORF,ATL', 'ATL,HNL'), 6.0, 180951.0, -5.918431621302029e-06],\n",
       " [('ALB,IAH', 'IAH,CLL'), 1.0, 950.0, -5.929862453470035e-06],\n",
       " [('BIL,SLC', 'SLC,LAS'), 12.0, 750590.0, -5.958871321058138e-06],\n",
       " [('EWR,ALB', 'ALB,IAD'), 4.0, 67444.0, -5.988237975486671e-06],\n",
       " [('DSM,STL', 'STL,MCO'), 9.0, 431706.0, -5.990680899710356e-06],\n",
       " [('FLL,MDW', 'MDW,FNT'), 6.0, 181306.0, -5.993492107254593e-06],\n",
       " [('ASE,SLC', 'SLC,JFK'), 6.0, 181530.0, -6.041259899370997e-06],\n",
       " [('SAT,MSP', 'MSP,RHI'), 3.0, 30958.0, -6.080990872354139e-06],\n",
       " [('FSD,DEN', 'DEN,SNA'), 8.0, 340277.0, -6.122707222165451e-06],\n",
       " [('SJC,ORD', 'ORD,DAY'), 6.0, 182370.0, -6.223215676240094e-06],\n",
       " [('AVL,ORD', 'ORD,HDN'), 2.0, 9285.0, -6.225932287897881e-06],\n",
       " [('EWN,CLT', 'CLT,DEN'), 8.0, 341120.0, -6.243572252273774e-06],\n",
       " [('CLT,MCO', 'MCO,DFW'), 26.0, 2751099.0, -6.3030231131095425e-06],\n",
       " [('PWM,HOU', 'HOU,SLC'), 1.0, 984.0, -6.361620793843821e-06],\n",
       " [('DTW,SLC', 'SLC,SJC'), 12.0, 755310.0, -6.364289518443136e-06],\n",
       " [('HNL,SFO', 'SFO,BWI'), 9.0, 434977.0, -6.391920815670896e-06],\n",
       " [('JAX,FLL', 'FLL,SJU'), 6.0, 183144.0, -6.39488218466272e-06],\n",
       " [('SFO,SJC', 'SJC,EWR'), 6.0, 183200.0, -6.407453522287545e-06],\n",
       " [('MCO,PDX', 'PDX,ANC'), 5.0, 119636.0, -6.440931634066205e-06],\n",
       " [('MHT,TPA', 'TPA,BWI'), 5.0, 119656.0, -6.446996924776741e-06],\n",
       " [('DTW,SAN', 'SAN,MSP'), 10.0, 536395.0, -6.507117705937043e-06],\n",
       " [('CLT,SEA', 'SEA,DFW'), 7.0, 258536.0, -6.5234455271645325e-06],\n",
       " [('CAE,ATL', 'ATL,SLC'), 12.0, 757357.0, -6.547549449078944e-06],\n",
       " [('IND,HOU', 'HOU,AUS'), 10.0, 538987.0, -6.8033737384712825e-06],\n",
       " [('HOU,PHX', 'PHX,DAL'), 5.0, 120810.0, -6.804892178018545e-06],\n",
       " [('CID,DEN', 'DEN,SNA'), 7.0, 260731.0, -6.931199381215525e-06],\n",
       " [('ELP,ATL', 'ATL,DTW'), 8.0, 345739.0, -6.942726260608056e-06],\n",
       " [('CWA,ORD', 'ORD,RSW'), 5.0, 121267.0, -6.950999994497966e-06],\n",
       " [('SFO,DFW', 'DFW,RSW'), 10.0, 540655.0, -7.0001742196236755e-06],\n",
       " [('MCI,MSP', 'MSP,FWA'), 4.0, 69807.0, -7.063066041012654e-06],\n",
       " [('SUX,DFW', 'DFW,MFE'), 3.0, 32209.0, -7.099423737154571e-06],\n",
       " [('ELP,OKC', 'OKC,BNA'), 1.0, 1043.0, -7.1467625204401e-06],\n",
       " [('PDX,SFO', 'SFO,FLL'), 11.0, 650482.0, -7.223270226533994e-06],\n",
       " [('PSP,SLC', 'SLC,ATL'), 10.0, 542753.0, -7.25473676769977e-06],\n",
       " [('ROA,ATL', 'ATL,SNA'), 5.0, 122200.0, -7.257188471413925e-06],\n",
       " [('DEN,LGA', 'LGA,EWR'), 10.0, 542991.0, -7.284117571077811e-06],\n",
       " [('HNL,DTW', 'DTW,BWI'), 2.0, 9800.0, -7.310321267389012e-06],\n",
       " [('IMT,DTW', 'DTW,ATL'), 3.0, 32468.0, -7.32506567278709e-06],\n",
       " [('PIT,PDX', 'PDX,MCI'), 1.0, 1056.0, -7.325884677420526e-06],\n",
       " [('ANC,PDX', 'PDX,TUS'), 4.0, 70374.0, -7.342088968568907e-06],\n",
       " [('HNL,KOA', 'KOA,OGG'), 38.0, 4849015.0, -7.436390127028894e-06],\n",
       " [('LAS,DEN', 'DEN,OMA'), 15.0, 1139974.0, -7.436702037722169e-06],\n",
       " [('SEA,IAD', 'IAD,BWI'), 4.0, 70631.0, -7.471363388787754e-06],\n",
       " [('PIT,ATL', 'ATL,AEX'), 5.0, 122855.0, -7.478602686757974e-06],\n",
       " [('HDN,EWR', 'EWR,BWI'), 2.0, 9910.0, -7.557025076605462e-06],\n",
       " [('BZN,DEN', 'DEN,AUS'), 8.0, 349570.0, -7.5724012238674486e-06],\n",
       " [('SNA,IAH', 'IAH,CLE'), 8.0, 349573.0, -7.5729128185653476e-06],\n",
       " [('BZN,MSP', 'MSP,BOS'), 9.0, 443883.0, -7.604286875787047e-06],\n",
       " [('SLC,DEN', 'DEN,IND'), 14.0, 1012923.0, -7.613920076178287e-06],\n",
       " [('PHX,HOU', 'HOU,BHM'), 8.0, 349849.0, -7.62010613808923e-06],\n",
       " [('PNS,ORD', 'ORD,BZN'), 2.0, 9938.0, -7.620688414172497e-06],\n",
       " [('SAF,PHX', 'PHX,SAN'), 5.0, 123287.0, -7.627606471758566e-06],\n",
       " [('HSV,CLT', 'CLT,RIC'), 8.0, 350229.0, -7.68549373456114e-06],\n",
       " [('SFO,BWI', 'BWI,EWR'), 3.0, 32944.0, -7.753500864015668e-06],\n",
       " [('LGB,JFK', 'JFK,RNO'), 2.0, 10094.0, -7.98187763990973e-06],\n",
       " [('GRR,RSW', 'RSW,MDW'), 5.0, 124522.0, -8.066893141381091e-06],\n",
       " [('ASE,ORD', 'ORD,PHL'), 8.0, 353441.0, -8.25761965033045e-06],\n",
       " [('PWM,MDW', 'MDW,RNO'), 1.0, 1123.0, -8.284114760314797e-06],\n",
       " [('DSM,DTW', 'DTW,DCA'), 7.0, 267310.0, -8.284635819411295e-06],\n",
       " [('BMI,ORD', 'ORD,PHX'), 5.0, 125200.0, -8.316629441600089e-06],\n",
       " [('IAH,SFO', 'SFO,MFR'), 8.0, 354327.0, -8.421694596868496e-06],\n",
       " [('ANC,MSP', 'MSP,ATL'), 11.0, 660892.0, -8.444082353786955e-06],\n",
       " [('LAX,DTW', 'DTW,BWI'), 13.0, 896703.0, -8.460344521171996e-06],\n",
       " [('RNO,SLC', 'SLC,DTW'), 13.0, 896723.0, -8.462422410391441e-06],\n",
       " [('DEN,PDX', 'PDX,IAH'), 8.0, 354685.0, -8.488777000945949e-06],\n",
       " [('MDW,ORF', 'ORF,BWI'), 14.0, 1022628.0, -8.503866217840317e-06],\n",
       " [('BNA,OAK', 'OAK,BWI'), 4.0, 72571.0, -8.505644214985225e-06],\n",
       " [('DAL,DCA', 'DCA,HOU'), 4.0, 72589.0, -8.515737328133115e-06],\n",
       " [('BOS,MDW', 'MDW,ABQ'), 5.0, 125735.0, -8.518080065960755e-06],\n",
       " [('DCA,STL', 'STL,SAN'), 5.0, 125996.0, -8.617781473941945e-06],\n",
       " [('ATL,OKC', 'OKC,DTW'), 8.0, 355721.0, -8.68548211664146e-06],\n",
       " [('SJU,MIA', 'MIA,SAT'), 6.0, 192267.0, -8.732872908073276e-06],\n",
       " [('BOI,RNO', 'RNO,SEA'), 5.0, 126419.0, -8.781371289490094e-06],\n",
       " [('LGA,PHL', 'PHL,ERI'), 4.0, 73065.0, -8.78605834689919e-06],\n",
       " [('SAT,LAS', 'LAS,RNO'), 9.0, 451742.0, -8.834192895629942e-06],\n",
       " [('ELP,SAT', 'SAT,MDW'), 5.0, 126615.0, -8.858019172917952e-06],\n",
       " [('ALB,SEA', 'SEA,MDW'), 1.0, 1162.0, -8.868924977177643e-06],\n",
       " [('CLE,SEA', 'SEA,MDW'), 1.0, 1162.0, -8.868924977177643e-06],\n",
       " [('TUS,IAH', 'IAH,GRR'), 3.0, 34182.0, -8.95426865976524e-06],\n",
       " [('LAX,IAH', 'IAH,TPA'), 17.0, 1430538.0, -8.977973057722741e-06],\n",
       " [('SEA,DEN', 'DEN,MEM'), 8.0, 357715.0, -9.075060346057568e-06],\n",
       " [('SAT,IAD', 'IAD,LGA'), 5.0, 127224.0, -9.099637587955873e-06],\n",
       " [('PHX,DEN', 'DEN,FAR'), 8.0, 357953.0, -9.122541238207002e-06],\n",
       " [('LAS,ORD', 'ORD,EVV'), 5.0, 127406.0, -9.172871263167786e-06],\n",
       " [('PNS,VPS', 'VPS,DCA'), 1.0, 1182.0, -9.176541976941565e-06],\n",
       " [('JAX,BNA', 'BNA,MCI'), 6.0, 193781.0, -9.181953693738435e-06],\n",
       " [('SLC,LAX', 'LAX,LIH'), 13.0, 903477.0, -9.190505310659533e-06],\n",
       " [('FAR,MSP', 'MSP,MCO'), 12.0, 782903.0, -9.258755907071036e-06],\n",
       " [('SEA,SLC', 'SLC,TUL'), 6.0, 194203.0, -9.310481548206811e-06],\n",
       " [('CMH,SAT', 'SAT,BNA'), 2.0, 10640.0, -9.334744172919892e-06],\n",
       " [('DAL,SLC', 'SLC,MDW'), 3.0, 34610.0, -9.39961357774087e-06],\n",
       " [('LAS,AUS', 'AUS,SMF'), 3.0, 34641.0, -9.432491370524944e-06],\n",
       " [('GJT,DFW', 'DFW,MAF'), 4.0, 74266.0, -9.497962144831691e-06],\n",
       " [('IAD,DAY', 'DAY,BNA'), 1.0, 1203.0, -9.505167583134816e-06],\n",
       " [('EWR,MCO', 'MCO,PBI'), 6.0, 194844.0, -9.508559820643568e-06],\n",
       " [('RIC,ATL', 'ATL,BNA'), 15.0, 1163353.0, -9.51334867778146e-06],\n",
       " [('BOS,MSP', 'MSP,BZN'), 9.0, 455833.0, -9.539751612031517e-06],\n",
       " [('SNA,ORD', 'ORD,SYR'), 8.0, 360059.0, -9.5520141927644e-06],\n",
       " [('CHS,CLT', 'CLT,DTW'), 12.0, 785679.0, -9.605858926092076e-06],\n",
       " [('MDW,PBI', 'PBI,FNT'), 1.0, 1213.0, -9.663681971740729e-06],\n",
       " [('MLU,IAH', 'IAH,ANC'), 1.0, 1215.0, -9.69554168896387e-06],\n",
       " [('BWI,OKC', 'OKC,PHX'), 4.0, 74587.0, -9.695656077917853e-06],\n",
       " [('HNL,PDX', 'PDX,BLI'), 4.0, 74831.0, -9.848065839223048e-06],\n",
       " [('ABQ,ORD', 'ORD,HPN'), 3.0, 35051.0, -9.875346101746147e-06]]"
      ]
     },
     "execution_count": 15,
     "metadata": {},
     "output_type": "execute_result"
    }
   ],
   "source": [
    "print(len(over_non_return))\n",
    "over_non_return = sorted(over_non_return, key=lambda x: x[3], reverse=True)\n",
    "over_non_return"
   ]
  },
  {
   "cell_type": "markdown",
   "metadata": {},
   "source": [
    "# Distance-related hypotheses"
   ]
  },
  {
   "cell_type": "code",
   "execution_count": 16,
   "metadata": {},
   "outputs": [],
   "source": [
    "import pandas as pd\n",
    "import geopy.distance as gd"
   ]
  },
  {
   "cell_type": "code",
   "execution_count": 17,
   "metadata": {},
   "outputs": [],
   "source": [
    "airpdat = pd.read_csv('../data/airport-codes.csv')\n",
    "\n",
    "isUS = (airpdat.iso_country == 'US')\n",
    "hasCoors = airpdat.coordinates.apply(lambda x: len(x) > 8)\n",
    "hasIATA = airpdat.iata_code.notnull()\n",
    "\n",
    "airpdat = airpdat[isUS & hasCoors & hasIATA]\n",
    "\n",
    "airpdat.coordinates = airpdat.coordinates.apply(\n",
    "    lambda x: gd.lonlat(*x.split(', ')))"
   ]
  },
  {
   "cell_type": "code",
   "execution_count": 18,
   "metadata": {},
   "outputs": [],
   "source": [
    "iata_coord = {row['iata_code']: row['coordinates'] for idx, row in airpdat.iterrows()}"
   ]
  },
  {
   "cell_type": "code",
   "execution_count": 19,
   "metadata": {
    "scrolled": true
   },
   "outputs": [],
   "source": [
    "for e,edat in hy.hypa_net.edges.items():\n",
    "    a = e[0].split(',')[0]\n",
    "    b = e[0].split(',')[1]\n",
    "    c = e[1].split(',')[1]\n",
    "\n",
    "    try:\n",
    "        ainf, binf, cinf = (iata_coord[i] for i in (a,b,c))\n",
    "    except KeyError:\n",
    "        continue\n",
    "\n",
    "    hy.hypa_net.edges[e]['dist12'] = gd.distance(ainf, binf).km\n",
    "    hy.hypa_net.edges[e]['dist23'] = gd.distance(binf, cinf).km\n",
    "    hy.hypa_net.edges[e]['dist13'] = gd.distance(ainf, cinf).km"
   ]
  },
  {
   "cell_type": "markdown",
   "metadata": {},
   "source": [
    "### Efficiency"
   ]
  },
  {
   "cell_type": "code",
   "execution_count": 20,
   "metadata": {},
   "outputs": [],
   "source": [
    "def compute_rel_dist(dat):\n",
    "    return dat['dist13']/(dat['dist12'] + dat['dist23'])\n",
    "    \n",
    "pval_vs_dist = []\n",
    "for e,dat in hy.hypa_net.edges.items():\n",
    "    if \"dist12\" in dat:\n",
    "        pval_vs_dist.append([compute_rel_dist(dat), dat['pval']])\n",
    "\n",
    "pval_vs_dist = np.array(pval_vs_dist)"
   ]
  },
  {
   "cell_type": "code",
   "execution_count": 21,
   "metadata": {},
   "outputs": [],
   "source": [
    "n_bins = 16\n",
    "dist_bins = np.arange(0,1+1/n_bins, 1/n_bins)\n",
    "p_binned = [[] for b in dist_bins]\n",
    "for rd,pv in pval_vs_dist:\n",
    "    p_binned[np.argmax(rd <= dist_bins)].append(pv)"
   ]
  },
  {
   "cell_type": "code",
   "execution_count": 22,
   "metadata": {},
   "outputs": [],
   "source": [
    "po = pu = 0.05\n",
    "# po = 0.05 # alpha_u\n",
    "over_binned = [np.sum(np.array(b) > np.log(1-po))/len(b) for b in p_binned]\n",
    "under_binned = [np.sum(np.array(b) < np.log(pu))/len(b) for b in p_binned]"
   ]
  },
  {
   "cell_type": "code",
   "execution_count": 23,
   "metadata": {},
   "outputs": [
    {
     "data": {
      "image/png": "[encoded data removed]",
      "text/plain": [
       "<Figure size 288x259.2 with 1 Axes>"
      ]
     },
     "metadata": {},
     "output_type": "display_data"
    }
   ],
   "source": [
    "draw.set_style()\n",
    "ccc = plt.rcParams['axes.prop_cycle'].by_key()['color']\n",
    "plt.rcParams['figure.figsize'] =  [4, 3.6]\n",
    "\n",
    "plt.plot(dist_bins, under_binned, 'o-', c=ccc[0])\n",
    "plt.xlabel(\"Distance efficiency, $\\\\frac{d(A,C)}{d(A,B) + d(B,C)}$\")\n",
    "plt.ylabel(\"Fraction under-represented\")\n",
    "plt.ylim((0, 1.05*max(under_binned)))\n",
    "\n",
    "plt.tight_layout()\n",
    "plt.savefig('output/rel-dist-underrep.pdf')\n",
    "plt.show()"
   ]
  },
  {
   "cell_type": "code",
   "execution_count": 24,
   "metadata": {},
   "outputs": [
    {
     "data": {
      "image/png": "[encoded data removed]",
      "text/plain": [
       "<Figure size 288x259.2 with 1 Axes>"
      ]
     },
     "metadata": {},
     "output_type": "display_data"
    }
   ],
   "source": [
    "draw.set_style()\n",
    "plt.rcParams['figure.figsize'] =  [4, 3.6]\n",
    "\n",
    "plt.plot(dist_bins, np.array(over_binned), 'o-', c=ccc[1])\n",
    "plt.xlabel(\"Distance efficiency, $\\\\frac{d(A,C)}{d(A,B) + d(B,C)}$\")\n",
    "plt.ylabel(\"Fraction over-represented\")\n",
    "plt.ylim((0.2, 1.05*max(over_binned)))\n",
    "\n",
    "plt.tight_layout()\n",
    "plt.savefig('output/rel-dist-overrep.pdf')"
   ]
  },
  {
   "cell_type": "markdown",
   "metadata": {},
   "source": [
    "### Balance"
   ]
  },
  {
   "cell_type": "code",
   "execution_count": 25,
   "metadata": {},
   "outputs": [],
   "source": [
    "def compute_length_balance(dat):\n",
    "    return (dat['dist12'] - dat['dist23'])/(dat['dist12'] + dat['dist23'])\n",
    "    \n",
    "pval_vs_lratio = []\n",
    "for e,dat in hy.hypa_net.edges.items():\n",
    "    if \"dist12\" in dat:\n",
    "        pval_vs_lratio.append([compute_length_balance(dat), dat['pval']])\n",
    "\n",
    "pval_vs_lratio = np.array(pval_vs_lratio)"
   ]
  },
  {
   "cell_type": "code",
   "execution_count": 26,
   "metadata": {},
   "outputs": [
    {
     "name": "stderr",
     "output_type": "stream",
     "text": [
      "/Users/larock/miniconda3/envs/hypa/lib/python3.6/site-packages/numpy/core/_asarray.py:83: VisibleDeprecationWarning: Creating an ndarray from ragged nested sequences (which is a list-or-tuple of lists-or-tuples-or ndarrays with different lengths or shapes) is deprecated. If you meant to do this, you must specify 'dtype=object' when creating the ndarray\n",
      "  return array(a, dtype, copy=False, order=order)\n"
     ]
    },
    {
     "data": {
      "image/png": "[encoded data removed]",
      "text/plain": [
       "<Figure size 288x259.2 with 1 Axes>"
      ]
     },
     "metadata": {},
     "output_type": "display_data"
    }
   ],
   "source": [
    "# pu = 0.01\n",
    "# po = 0.01\n",
    "draw.set_style()\n",
    "plt.rcParams['figure.figsize'] =  [4, 3.6]\n",
    "\n",
    "lru = (pval_vs_lratio[:,1] < np.log(pu))\n",
    "lro = (pval_vs_lratio[:,1] > np.log(1-po))\n",
    "mid = np.logical_and(~lru, ~lro)\n",
    "lrnoo = (pval_vs_lratio[:,1] < np.log(1-po))\n",
    "\n",
    "plt.hist((pval_vs_lratio[lru,0], pval_vs_lratio[lro,0]),\n",
    "         label=('Under','Over'),\n",
    "         bins=32, density=True)\n",
    "\n",
    "plt.xlabel(\"Distance balance, $\\\\frac{d(A,B) - d(B,C)}{d(A,B) + d(B,C)}$\")\n",
    "plt.ylabel(\"Density of HYPA(2) scores\")\n",
    "plt.legend()\n",
    "plt.tight_layout()\n",
    "plt.savefig('output/distance-balance.pdf')\n",
    "plt.show()"
   ]
  }
 ],
 "metadata": {
  "kernelspec": {
   "display_name": "Python 3",
   "language": "python",
   "name": "python3"
  },
  "language_info": {
   "codemirror_mode": {
    "name": "ipython",
    "version": 3
   },
   "file_extension": ".py",
   "mimetype": "text/x-python",
   "name": "python",
   "nbconvert_exporter": "python",
   "pygments_lexer": "ipython3",
   "version": "3.6.6"
  }
 },
 "nbformat": 4,
 "nbformat_minor": 4
}
