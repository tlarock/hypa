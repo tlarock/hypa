{
 "cells": [
  {
   "cell_type": "code",
   "execution_count": 1,
   "metadata": {},
   "outputs": [],
   "source": [
    "%matplotlib inline\n",
    "import pathpy as pp\n",
    "import hypa\n",
    "import matplotlib.pyplot as plt\n",
    "import pickle\n",
    "import numpy as np\n",
    "from random import random\n",
    "import draw\n",
    "from itertools import cycle\n",
    "cols = cycle(plt.rcParams['axes.prop_cycle'].by_key()['color'])\n",
    "\n",
    "coupon_fname = \"coupons_2018_01-5percent\""
   ]
  },
  {
   "cell_type": "code",
   "execution_count": 2,
   "metadata": {},
   "outputs": [
    {
     "name": "stdout",
     "output_type": "stream",
     "text": [
      "2020-08-14 15:15:26 [Severity.INFO]\tReading ngram data ... \n",
      "2020-08-14 15:15:29 [Severity.INFO]\tfinished. Read 88539 paths with maximum length 10\n"
     ]
    }
   ],
   "source": [
    "paths = pp.Paths()\n",
    "paths = paths.read_file('../data/{}.ngram'.format(coupon_fname), frequency=True)"
   ]
  },
  {
   "cell_type": "code",
   "execution_count": 3,
   "metadata": {},
   "outputs": [
    {
     "name": "stdout",
     "output_type": "stream",
     "text": [
      "Total path count: \t\t185871.0 \n",
      "[Unique / Sub paths / Total]: \t[88539.0 / 1380687.0 / 1566558.0]\n",
      "Nodes:\t\t\t\t382 \n",
      "Edges:\t\t\t\t6933\n",
      "Max. path length:\t\t10\n",
      "Avg path length:\t\t2.481656632825992 \n",
      "Paths of length k = 0\t\t0.0 [ 0.0 / 647139.0 / 647139.0 ]\n",
      "Paths of length k = 1\t\t29531.0 [ 4667.0 / 431737.0 / 461268.0 ]\n",
      "Paths of length k = 2\t\t92711.0 [ 33610.0 / 182686.0 / 275397.0 ]\n",
      "Paths of length k = 3\t\t14358.0 [ 10943.0 / 104699.0 / 119057.0 ]\n",
      "Paths of length k = 4\t\t44885.0 [ 34961.0 / 10543.0 / 55428.0 ]\n",
      "Paths of length k = 5\t\t2852.0 [ 2833.0 / 3305.0 / 6157.0 ]\n",
      "Paths of length k = 6\t\t1374.0 [ 1365.0 / 397.0 / 1771.0 ]\n",
      "Paths of length k = 7\t\t104.0 [ 104.0 / 133.0 / 237.0 ]\n",
      "Paths of length k = 8\t\t41.0 [ 41.0 / 36.0 / 77.0 ]\n",
      "Paths of length k = 9\t\t9.0 [ 9.0 / 12.0 / 21.0 ]\n",
      "Paths of length k = 10\t\t6.0 [ 6.0 / 0.0 / 6.0 ]\n",
      "\n"
     ]
    }
   ],
   "source": [
    "print(paths)"
   ]
  },
  {
   "cell_type": "code",
   "execution_count": 4,
   "metadata": {},
   "outputs": [
    {
     "data": {
      "text/plain": [
       "461268.0"
      ]
     },
     "execution_count": 4,
     "metadata": {},
     "output_type": "execute_result"
    }
   ],
   "source": [
    "sum([k * v[1] for k,v in paths.path_lengths().items()])"
   ]
  },
  {
   "cell_type": "markdown",
   "metadata": {},
   "source": [
    "# Lambda_1"
   ]
  },
  {
   "cell_type": "code",
   "execution_count": 5,
   "metadata": {},
   "outputs": [
    {
     "data": {
      "text/plain": [
       "56.5502833753289"
      ]
     },
     "execution_count": 5,
     "metadata": {},
     "output_type": "execute_result"
    }
   ],
   "source": [
    "net = pp.HigherOrderNetwork(paths, k=1, separator=paths.separator)\n",
    "adj = net.adjacency_matrix(weighted=False).todense()\n",
    "w,wv = np.linalg.eig(adj)\n",
    "\n",
    "max(w).real"
   ]
  },
  {
   "cell_type": "code",
   "execution_count": 6,
   "metadata": {},
   "outputs": [
    {
     "data": {
      "text/plain": [
       "[0.8883151527305556, 50.234473613511504, 2840.7737180545573]"
      ]
     },
     "execution_count": 6,
     "metadata": {},
     "output_type": "execute_result"
    }
   ],
   "source": [
    "[max(w).real**k/3600 for k in range(2,5)]"
   ]
  },
  {
   "cell_type": "markdown",
   "metadata": {},
   "source": [
    "# Second order network"
   ]
  },
  {
   "cell_type": "code",
   "execution_count": 7,
   "metadata": {},
   "outputs": [
    {
     "name": "stdout",
     "output_type": "stream",
     "text": [
      "Computing the k=2 order Xi...\n",
      "Fitting Xi...\n",
      "rmse = 6977.366846733035\n",
      "rmse = 0.000977831644160762\n"
     ]
    }
   ],
   "source": [
    "hy = hypa.Hypa(paths)\n",
    "hy.construct_hypa_network(k=2, log=True)"
   ]
  },
  {
   "cell_type": "code",
   "execution_count": 8,
   "metadata": {},
   "outputs": [],
   "source": [
    "pnet_edges_sorted = sorted(hy.hypa_net.edges.items(), key = lambda kv: kv[1]['pval'])\n",
    "pnet_edges_set = set([x[0] for x in pnet_edges_sorted])"
   ]
  },
  {
   "cell_type": "code",
   "execution_count": 9,
   "metadata": {},
   "outputs": [
    {
     "data": {
      "image/png": "[encoded data removed]",
      "text/plain": [
       "<Figure size 345.6x259.2 with 1 Axes>"
      ]
     },
     "metadata": {},
     "output_type": "display_data"
    }
   ],
   "source": [
    "pvals  = []\n",
    "for e,dat in pnet_edges_sorted:\n",
    "    pvals.append(dat['pval'])\n",
    "\n",
    "plt.hist(np.exp(pvals), bins=40, log=True)\n",
    "# plt.hist((np.exp(pvals),np.exp(pval1).flatten()), bins=40, log=True)\n",
    "plt.xlabel('Transition likelihood')\n",
    "plt.ylabel('Count')\n",
    "plt.show()"
   ]
  },
  {
   "cell_type": "markdown",
   "metadata": {},
   "source": [
    "# Compare the return flights to others"
   ]
  },
  {
   "cell_type": "code",
   "execution_count": 10,
   "metadata": {},
   "outputs": [],
   "source": [
    "probs_return = []\n",
    "probs_other = []\n",
    "for e,d in hy.hypa_net.edges.items():\n",
    "    # check if A==C in (A-B)->(B-C)\n",
    "    if e[0].split(',')[0] == e[1].split(',')[1]:\n",
    "        probs_return.append(d['pval'])\n",
    "    else:\n",
    "        probs_other.append(d['pval'])"
   ]
  },
  {
   "cell_type": "code",
   "execution_count": 11,
   "metadata": {},
   "outputs": [
    {
     "name": "stdout",
     "output_type": "stream",
     "text": [
      "# return transitions:\t\t5840\n",
      "# non-return transitions:\t409254\n"
     ]
    },
    {
     "data": {
      "image/png": "[encoded data removed]",
      "text/plain": [
       "<Figure size 345.6x259.2 with 1 Axes>"
      ]
     },
     "metadata": {},
     "output_type": "display_data"
    }
   ],
   "source": [
    "import draw\n",
    "draw.set_style()\n",
    "\n",
    "\n",
    "print('# return transitions:\\t\\t{}'.format(len(probs_return)))\n",
    "print('# non-return transitions:\\t{}'.format(len(probs_other)))\n",
    "\n",
    "plt.hist((np.exp(probs_return), np.exp(probs_other)),  bins=16,\n",
    "         log=False, stacked=False, density=True, \n",
    "         label=('Return',# ({})'.format(len(probs_return)), \n",
    "                'Non-return'))\n",
    "plt.xlabel('HYPA(2) scores')\n",
    "plt.ylabel('Density')\n",
    "plt.legend()\n",
    "plt.tight_layout()\n",
    "plt.savefig('output/flights-returns-diff.pdf')\n",
    "plt.show()"
   ]
  },
  {
   "cell_type": "code",
   "execution_count": 12,
   "metadata": {},
   "outputs": [
    {
     "name": "stdout",
     "output_type": "stream",
     "text": [
      "1e-05\t&\t0.628\t&\t0.001 \\\\\n",
      "\t return \t|\t non-return\n",
      "under \t\t over \t| under \t\t over\n",
      "0.0e+00 \t 0.628 \t| 4.8e-04 \t\t 0.001\n"
     ]
    }
   ],
   "source": [
    "po = 0.00001\n",
    "pthr_o = np.log(1-po)\n",
    "pthr_u = np.log(po)\n",
    "\n",
    "over_return = np.sum(np.array(probs_return) > pthr_o)\n",
    "under_return = np.sum(np.array(probs_return) <= pthr_u)\n",
    "\n",
    "over_other = np.sum(np.array(probs_other) > pthr_o)\n",
    "under_other = np.sum(np.array(probs_other) <= pthr_u)\n",
    "\n",
    "print(\"{:.0e}\\t&\\t{:.3f}\\t&\\t{:.3f} \\\\\\\\\".format(po, over_return/len(probs_return), over_other/len(probs_other)))\n",
    "\n",
    "print(\"\\t return \\t|\\t non-return\")\n",
    "print(\"under \\t\\t over \\t| under \\t\\t over\")\n",
    "print(\"{:.1e} \\t {:.3f} \\t| {:.1e} \\t\\t {:.3f}\".format(\n",
    "    under_return/len(probs_return), over_return/len(probs_return),\n",
    "    under_other/len(probs_other), over_other/len(probs_other) ))"
   ]
  },
  {
   "cell_type": "code",
   "execution_count": 13,
   "metadata": {
    "scrolled": true
   },
   "outputs": [],
   "source": [
    "over_non_return = []\n",
    "for e,d in hy.hypa_net.edges.items():\n",
    "    # check if A!=C in (A-B)->(B-C)\n",
    "    if e[0].split(',')[0] != e[1].split(',')[1] and d['pval'] > pthr_o:\n",
    "        over_non_return.append([e, d[\"weight\"], d[\"xival\"], d['pval']])"
   ]
  },
  {
   "cell_type": "code",
   "execution_count": 14,
   "metadata": {
    "scrolled": true
   },
   "outputs": [
    {
     "name": "stdout",
     "output_type": "stream",
     "text": [
      "511\n"
     ]
    },
    {
     "data": {
      "text/plain": [
       "[[('IAH,HNL', 'HNL,GUM'), 20.0, 3160.0, -1.7429375646920336e-19],\n",
       " [('ATL,ORD', 'ORD,MDW'), 14.0, 6727.0, -5.6841685764265156e-18],\n",
       " [('LGA,MCO', 'MCO,JFK'), 25.0, 17110.0, -1.4050157944253678e-15],\n",
       " [('ATL,DAL', 'DAL,DFW'), 14.0, 2580.0, -7.2041505381479e-15],\n",
       " [('DAL,DFW', 'DFW,ATL'), 11.0, 6460.0, -1.2802662212104122e-14],\n",
       " [('ATL,DFW', 'DFW,DAL'), 12.0, 8568.0, -1.3044562792927547e-14],\n",
       " [('GUM,HNL', 'HNL,IAH'), 14.0, 2200.0, -1.6512936340808884e-14],\n",
       " [('ANC,PDX', 'PDX,MCO'), 12.0, 1275.0, -3.461534042714108e-14],\n",
       " [('ORD,MDW', 'MDW,ATL'), 15.0, 4123.0, -3.912364363055896e-14],\n",
       " [('CLT,LAS', 'LAS,DFW'), 27.0, 31232.0, -4.125989385545848e-14],\n",
       " [('JFK,MIA', 'MIA,LGA'), 35.0, 22925.0, -5.163769102652302e-14],\n",
       " [('DFW,DAL', 'DAL,ATL'), 14.0, 3120.0, -1.0723712342819265e-13],\n",
       " [('CLT,FLL', 'FLL,PHL'), 31.0, 22814.0, -2.9353177577660504e-13],\n",
       " [('LGA,DEN', 'DEN,ASE'), 17.0, 21800.0, -5.072748453841192e-13],\n",
       " [('JFK,DEN', 'DEN,LGA'), 12.0, 9073.0, -1.0320160164381136e-12],\n",
       " [('LGA,MIA', 'MIA,JFK'), 31.0, 20592.0, -1.6234187766681612e-12],\n",
       " [('MDW,MCO', 'MCO,OMA'), 9.0, 1919.0, -6.749952326897384e-12],\n",
       " [('ASE,DEN', 'DEN,LGA'), 16.0, 22155.0, -6.864193570586431e-12],\n",
       " [('MSP,SFO', 'SFO,DTW'), 17.0, 12672.0, -7.727296706327847e-12],\n",
       " [('ORF,ATL', 'ATL,SAN'), 17.0, 57288.0, -1.0158428962574988e-11],\n",
       " [('DFW,LAS', 'LAS,CLT'), 23.0, 30003.0, -2.576699992650253e-11],\n",
       " [('HOU,FLL', 'FLL,DAL'), 8.0, 1064.0, -3.331404433001088e-11],\n",
       " [('STL,DFW', 'DFW,HNL'), 14.0, 24220.0, -3.894470648250952e-11],\n",
       " [('OGG,LAX', 'LAX,MSP'), 27.0, 48348.0, -4.135830310888574e-11],\n",
       " [('HOU,IAH', 'IAH,ATL'), 10.0, 4256.0, -4.169177017746145e-11],\n",
       " [('MDW,ORD', 'ORD,ATL'), 8.0, 4313.0, -4.194972058521771e-11],\n",
       " [('DCA,PHL', 'PHL,SAN'), 9.0, 2109.0, -6.017496566946377e-11],\n",
       " [('BZN,SLC', 'SLC,LAX'), 21.0, 23278.0, -8.024281168868788e-11],\n",
       " [('LGA,FLL', 'FLL,JFK'), 21.0, 13433.0, -8.05233775218759e-11],\n",
       " [('OMA,MDW', 'MDW,MCO'), 16.0, 8466.0, -1.7467346799889454e-10],\n",
       " [('DAL,MCO', 'MCO,HOU'), 12.0, 6059.0, -2.7062178349448546e-10],\n",
       " [('HOU,MSY', 'MSY,DAL'), 19.0, 7470.0, -2.75665765650497e-10],\n",
       " [('IAH,DEN', 'DEN,ISN'), 10.0, 9044.0, -3.085733336941965e-10],\n",
       " [('ANC,IAH', 'IAH,AEX'), 3.0, 69.0, -3.384659097743748e-10],\n",
       " [('LGA,PHL', 'PHL,SJU'), 10.0, 3380.0, -3.4216165052236176e-10],\n",
       " [('HOU,MCO', 'MCO,SAT'), 8.0, 2070.0, -3.6552739866923434e-10],\n",
       " [('GEG,OAK', 'OAK,SAN'), 15.0, 2376.0, -5.031435712920648e-10],\n",
       " [('PDX,DCA', 'DCA,SEA'), 7.0, 1008.0, -5.25651754132102e-10],\n",
       " [('HOU,CLT', 'CLT,DAL'), 3.0, 176.0, -5.820166267466856e-10],\n",
       " [('GUM,HNL', 'HNL,DEN'), 12.0, 3256.0, -5.995674089687252e-10],\n",
       " [('BWI,DEN', 'DEN,HNL'), 12.0, 15600.0, -7.372090588836866e-10],\n",
       " [('JFK,MSY', 'MSY,LGA'), 12.0, 2860.0, -7.746808205503925e-10],\n",
       " [('ATL,HOU', 'HOU,IAH'), 12.0, 3154.0, -9.362996817535642e-10],\n",
       " [('SEA,DCA', 'DCA,PDX'), 7.0, 1125.0, -1.231065212122354e-09],\n",
       " [('DTW,ATL', 'ATL,ELP'), 11.0, 28860.0, -1.2707379382602568e-09],\n",
       " [('PDX,MCO', 'MCO,SEA'), 8.0, 2407.0, -1.3429032883237406e-09],\n",
       " [('DTW,SEA', 'SEA,KOA'), 14.0, 13572.0, -1.347563079646507e-09],\n",
       " [('FAY,CLT', 'CLT,DFW'), 15.0, 35500.0, -1.8151732683202188e-09],\n",
       " [('DAL,CLT', 'CLT,MDW'), 3.0, 242.0, -2.0752403993980864e-09],\n",
       " [('MSP,SLC', 'SLC,OGG'), 10.0, 5452.0, -2.3073713014016043e-09],\n",
       " [('ATL,MDW', 'MDW,ORD'), 9.0, 2584.0, -2.319286809472276e-09],\n",
       " [('LGA,BNA', 'BNA,JFK'), 10.0, 2080.0, -2.4625712063379092e-09],\n",
       " [('MCI,SAN', 'SAN,HNL'), 7.0, 1008.0, -2.8257419476429455e-09],\n",
       " [('MCO,LGA', 'LGA,SYR'), 11.0, 3870.0, -2.8677889988473546e-09],\n",
       " [('GEG,SEA', 'SEA,SNA'), 24.0, 42602.0, -3.0103160187085486e-09],\n",
       " [('PHX,MCO', 'MCO,DFW'), 18.0, 17949.0, -3.145208080512214e-09],\n",
       " [('HOU,MEM', 'MEM,DAL'), 9.0, 442.0, -4.213734815058768e-09],\n",
       " [('ATL,LAX', 'LAX,OAK'), 27.0, 60445.0, -5.249702454905019e-09],\n",
       " [('CLT,LAS', 'LAS,PHL'), 14.0, 14720.0, -5.645858622663452e-09],\n",
       " [('MIA,DFW', 'DFW,ASE'), 9.0, 12485.0, -6.259681083450611e-09],\n",
       " [('MSP,ORD', 'ORD,MDW'), 9.0, 10664.0, -7.191439433982348e-09],\n",
       " [('DFW,FLL', 'FLL,CLT'), 25.0, 23736.0, -7.2782965473536376e-09],\n",
       " [('PHX,ORD', 'ORD,GRR'), 19.0, 56712.0, -8.33310624057208e-09],\n",
       " [('ONT,ORD', 'ORD,CGI'), 1.0, 2.0, -9.268244677754143e-09],\n",
       " [('LGA,EWR', 'EWR,ORD'), 14.0, 7688.0, -9.632709369782928e-09],\n",
       " [('JFK,MCO', 'MCO,LGA'), 15.0, 13416.0, -1.0563335896474404e-08],\n",
       " [('STL,SEA', 'SEA,MDW'), 5.0, 1054.0, -1.0677641872821298e-08],\n",
       " [('DFW,CLT', 'CLT,FAY'), 14.0, 34944.0, -1.0861203212655621e-08],\n",
       " [('ANC,PHX', 'PHX,SEA'), 6.0, 2486.0, -1.086228169666326e-08],\n",
       " [('STL,EWR', 'EWR,MDW'), 8.0, 2058.0, -1.1141090692995848e-08],\n",
       " [('BWI,ATL', 'ATL,HNL'), 10.0, 28440.0, -1.2754220321954936e-08],\n",
       " [('STL,PHL', 'PHL,MDW'), 9.0, 3726.0, -1.3064830915530664e-08],\n",
       " [('IAH,HOU', 'HOU,DFW'), 6.0, 660.0, -1.3373140406209688e-08],\n",
       " [('MSP,SEA', 'SEA,OGG'), 17.0, 24265.0, -1.5070687648179594e-08],\n",
       " [('CMH,STL', 'STL,MCI'), 12.0, 4278.0, -1.665894642794246e-08],\n",
       " [('LIH,SEA', 'SEA,MSP'), 15.0, 18988.0, -1.6716714028889185e-08],\n",
       " [('OGG,HNL', 'HNL,LAS'), 25.0, 18392.0, -1.679576540130124e-08],\n",
       " [('EWR,JFK', 'JFK,PDX'), 7.0, 1023.0, -1.8455644570507255e-08],\n",
       " [('MDW,SFO', 'SFO,OAK'), 4.0, 483.0, -2.1544337561072784e-08],\n",
       " [('PHX,TPA', 'TPA,DFW'), 12.0, 4557.0, -2.1932795016175692e-08],\n",
       " [('SFO,DEN', 'DEN,MSN'), 13.0, 25025.0, -2.4143608654950927e-08],\n",
       " [('CLT,RSW', 'RSW,PHL'), 20.0, 8844.0, -2.454957627167578e-08],\n",
       " [('SAT,SAN', 'SAN,SMF'), 10.0, 3311.0, -2.5144989695280643e-08],\n",
       " [('LGA,MSY', 'MSY,JFK'), 10.0, 2548.0, -2.5647924966052298e-08],\n",
       " [('CMH,ATL', 'ATL,TPA'), 26.0, 207350.0, -2.666781096069797e-08],\n",
       " [('TPA,MSY', 'MSY,LAS'), 9.0, 1989.0, -2.707138469222055e-08],\n",
       " [('BOI,SFO', 'SFO,LIH'), 8.0, 4047.0, -3.087868347493079e-08],\n",
       " [('SEA,DAL', 'DAL,DFW'), 6.0, 1000.0, -3.189233271818224e-08],\n",
       " [('GEG,PDX', 'PDX,OGG'), 11.0, 3318.0, -3.609788879418481e-08],\n",
       " [('IAH,CLT', 'CLT,CHO'), 11.0, 22950.0, -3.845523254420917e-08],\n",
       " [('STL,SFO', 'SFO,MDW'), 5.0, 1140.0, -4.377929428644029e-08],\n",
       " [('PDX,AUS', 'AUS,SEA'), 7.0, 912.0, -4.422444429627892e-08],\n",
       " [('ATW,DTW', 'DTW,MDT'), 6.0, 2184.0, -4.728815473048945e-08],\n",
       " [('OGG,DFW', 'DFW,STL'), 10.0, 20091.0, -5.170027458610726e-08],\n",
       " [('DTW,DFW', 'DFW,BRO'), 8.0, 11859.0, -5.601958049824712e-08],\n",
       " [('SFO,DFW', 'DFW,CLE'), 13.0, 36064.0, -5.735538050098536e-08],\n",
       " [('PNS,ATL', 'ATL,DTW'), 17.0, 100435.0, -5.780567742541922e-08],\n",
       " [('IND,MCI', 'MCI,SAN'), 7.0, 667.0, -5.811013235265308e-08],\n",
       " [('ATL,MSP', 'MSP,ANC'), 13.0, 15372.0, -5.8492775255477886e-08],\n",
       " [('DAL,DFW', 'DFW,SEA'), 6.0, 5680.0, -6.73207295477913e-08],\n",
       " [('JAX,STL', 'STL,BHM'), 1.0, 1.0, -6.924385614579077e-08],\n",
       " [('SAN,ATL', 'ATL,ORF'), 13.0, 59925.0, -7.323136951325918e-08],\n",
       " [('DFW,HOU', 'HOU,IAH'), 7.0, 1292.0, -7.537477553632665e-08],\n",
       " [('SAN,SEA', 'SEA,RDM'), 13.0, 15912.0, -7.626238894708586e-08],\n",
       " [('OGG,OAK', 'OAK,HNL'), 4.0, 120.0, -8.187990885632768e-08],\n",
       " [('SMF,LAS', 'LAS,MSY'), 9.0, 6930.0, -8.368305489061023e-08],\n",
       " [('ISN,DEN', 'DEN,IAH'), 9.0, 12328.0, -8.417363487285506e-08],\n",
       " [('CLT,AUS', 'AUS,DFW'), 18.0, 7889.0, -8.525135870042891e-08],\n",
       " [('SJU,BNA', 'BNA,SDF'), 1.0, 1.0, -8.64040160835483e-08],\n",
       " [('OGG,SFO', 'SFO,MSP'), 17.0, 23370.0, -9.430020753989658e-08],\n",
       " [('BOS,PHL', 'PHL,SJU'), 12.0, 8775.0, -9.48460547376169e-08],\n",
       " [('MDW,BNA', 'BNA,PNS'), 10.0, 2993.0, -9.525038917837364e-08],\n",
       " [('DAB,ATL', 'ATL,DTW'), 14.0, 72010.0, -1.0952736492412325e-07],\n",
       " [('TUS,DEN', 'DEN,MSN'), 9.0, 12705.0, -1.1076094960585209e-07],\n",
       " [('SMF,LAX', 'LAX,TUS'), 14.0, 21344.0, -1.1333438050202059e-07],\n",
       " [('MOT,DEN', 'DEN,IAH'), 8.0, 9648.0, -1.1648164048791358e-07],\n",
       " [('PSE,MCO', 'MCO,PNS'), 2.0, 48.0, -1.1799543236016574e-07],\n",
       " [('PBI,DFW', 'DFW,EGE'), 6.0, 6222.0, -1.239456958109202e-07],\n",
       " [('FNT,MDW', 'MDW,TPA'), 8.0, 3015.0, -1.2882435326647908e-07],\n",
       " [('MCO,STL', 'STL,OMA'), 11.0, 4264.0, -1.3190409468877483e-07],\n",
       " [('DCA,DEN', 'DEN,SLC'), 14.0, 33575.0, -1.381304343490631e-07],\n",
       " [('DFW,MSP', 'MSP,BRD'), 5.0, 1624.0, -1.437713175171779e-07],\n",
       " [('IAD,BWI', 'BWI,SEA'), 4.0, 504.0, -1.5847851184953516e-07],\n",
       " [('MKE,DEN', 'DEN,SAN'), 13.0, 29280.0, -1.596859767832523e-07],\n",
       " [('ONT,LGA', 'LGA,SMF'), 1.0, 2.0, -1.6555382148911763e-07],\n",
       " [('SFO,ORD', 'ORD,RIC'), 14.0, 38556.0, -1.7061888462773072e-07],\n",
       " [('AUS,PHX', 'PHX,LAS'), 20.0, 51360.0, -1.7806355262712007e-07],\n",
       " [('SNA,PDX', 'PDX,EUG'), 9.0, 2478.0, -1.816488650879831e-07],\n",
       " [('DAL,FLL', 'FLL,HOU'), 5.0, 850.0, -1.85551704337889e-07],\n",
       " [('LAS,DEN', 'DEN,ALB'), 9.0, 13455.0, -1.86373364685768e-07],\n",
       " [('BWI,IAH', 'IAH,HNL'), 7.0, 4240.0, -2.0190551137611006e-07],\n",
       " [('PDX,CLT', 'CLT,SJU'), 6.0, 6384.0, -2.1233500929642723e-07],\n",
       " [('DEN,ORD', 'ORD,AVL'), 7.0, 8487.0, -2.192416994682922e-07],\n",
       " [('PHX,CLT', 'CLT,RDU'), 25.0, 126038.0, -2.2572548490044306e-07],\n",
       " [('ASE,DFW', 'DFW,MIA'), 7.0, 10166.0, -2.3273549016191295e-07],\n",
       " [('RDU,LAS', 'LAS,SJC'), 8.0, 5904.0, -2.3426218321040713e-07],\n",
       " [('PDX,EWR', 'EWR,JFK'), 7.0, 2139.0, -2.3474599401992775e-07],\n",
       " [('FLL,MSP', 'MSP,PSC'), 4.0, 920.0, -2.451695871808799e-07],\n",
       " [('DFW,SMF', 'SMF,CLT'), 10.0, 1533.0, -2.455205449826886e-07],\n",
       " [('HNL,SEA', 'SEA,DTW'), 13.0, 17608.0, -2.5444318970192135e-07],\n",
       " [('ABQ,DCA', 'DCA,DAL'), 3.0, 192.0, -2.73011644645276e-07],\n",
       " [('FLL,MCO', 'MCO,CMH'), 10.0, 7497.0, -2.746825412285036e-07],\n",
       " [('LGA,DEN', 'DEN,JFK'), 7.0, 7800.0, -2.89162023146913e-07],\n",
       " [('BRO,DFW', 'DFW,DTW'), 8.0, 14472.0, -2.932670689819892e-07],\n",
       " [('PIT,MSP', 'MSP,PDX'), 8.0, 6165.0, -2.9581141139054443e-07],\n",
       " [('FLL,MDW', 'MDW,GRR'), 8.0, 3344.0, -3.036023479602091e-07],\n",
       " [('FAR,DEN', 'DEN,PHX'), 10.0, 17980.0, -3.12144040127625e-07],\n",
       " [('DTW,SEA', 'SEA,OGG'), 13.0, 17940.0, -3.1700171845975554e-07],\n",
       " [('CLT,SEA', 'SEA,MIA'), 2.0, 92.0, -3.234746385929546e-07],\n",
       " [('LAN,DTW', 'DTW,ATL'), 11.0, 12062.0, -3.3472551504359564e-07],\n",
       " [('MCO,IAH', 'IAH,SAN'), 16.0, 26640.0, -3.6159205241965546e-07],\n",
       " [('MDW,CLT', 'CLT,HOU'), 2.0, 210.0, -3.628672938070547e-07],\n",
       " [('ORD,MDW', 'MDW,MSP'), 10.0, 5642.0, -3.6542762826866655e-07],\n",
       " [('ONT,LAX', 'LAX,MDW'), 3.0, 456.0, -3.791488554191708e-07],\n",
       " [('RIC,IAH', 'IAH,JAC'), 2.0, 96.0, -3.826060400494058e-07],\n",
       " [('EWR,BWI', 'BWI,ORD'), 5.0, 1152.0, -3.8346504065007686e-07],\n",
       " [('DAL,PHX', 'PHX,LIT'), 4.0, 1365.0, -3.920970561910773e-07],\n",
       " [('JFK,SLC', 'SLC,ASE'), 7.0, 4032.0, -3.950358401138064e-07],\n",
       " [('BOS,PHX', 'PHX,PSP'), 10.0, 14190.0, -3.984093212518985e-07],\n",
       " [('IAD,ORD', 'ORD,SJC'), 7.0, 9200.0, -4.000979567037607e-07],\n",
       " [('BIL,SLC', 'SLC,PHX'), 14.0, 18164.0, -4.099158451232618e-07],\n",
       " [('LIH,LAX', 'LAX,ORD'), 21.0, 49457.0, -4.169052754257341e-07],\n",
       " [('SEA,SJC', 'SJC,TUS'), 10.0, 2016.0, -4.184501668115602e-07],\n",
       " [('SAN,PHX', 'PHX,IND'), 13.0, 24485.0, -4.248298854375997e-07],\n",
       " [('RDU,DFW', 'DFW,SJC'), 9.0, 19803.0, -4.2847949739920516e-07],\n",
       " [('PHX,CLT', 'CLT,BDL'), 19.0, 81906.0, -4.3071842579572005e-07],\n",
       " [('EGE,DFW', 'DFW,MIA'), 7.0, 11050.0, -4.332183137678871e-07],\n",
       " [('LAX,SLC', 'SLC,BZN'), 16.0, 23484.0, -4.381813544949677e-07],\n",
       " [('SAN,PHX', 'PHX,EGE'), 5.0, 2655.0, -4.3962738694913734e-07],\n",
       " [('HOU,MSY', 'MSY,SAT'), 8.0, 2070.0, -4.422580520898705e-07],\n",
       " [('LAS,HNL', 'HNL,OGG'), 23.0, 19050.0, -4.4586352962548676e-07],\n",
       " [('MIA,BWI', 'BWI,JFK'), 3.0, 252.0, -4.490955101838972e-07],\n",
       " [('ABQ,SAN', 'SAN,SJC'), 7.0, 1971.0, -4.5571044381660754e-07],\n",
       " [('RNO,SJC', 'SJC,OGG'), 5.0, 378.0, -4.5823359217745986e-07],\n",
       " [('MDW,EWR', 'EWR,STL'), 6.0, 1596.0, -4.6628647396644696e-07],\n",
       " [('OKC,DAL', 'DAL,MCO'), 11.0, 6048.0, -4.681649377305422e-07],\n",
       " [('ECP,BWI', 'BWI,DEN'), 5.0, 1199.0, -4.829894709333331e-07],\n",
       " [('CLT,ORD', 'ORD,SUX'), 6.0, 6440.0, -4.90595128578326e-07],\n",
       " [('PDX,SFO', 'SFO,PSP'), 16.0, 23616.0, -5.297270233341525e-07],\n",
       " [('HOU,CLT', 'CLT,MDW'), 2.0, 242.0, -5.54616781133378e-07],\n",
       " [('JAX,ATL', 'ATL,LAS'), 24.0, 213066.0, -5.604679568841947e-07],\n",
       " [('DFW,PHX', 'PHX,YUM'), 13.0, 25080.0, -5.621469734333385e-07],\n",
       " [('HOU,BHM', 'BHM,DAL'), 6.0, 156.0, -5.691388793994463e-07],\n",
       " [('PVD,BWI', 'BWI,RSW'), 15.0, 14664.0, -5.726118175778423e-07],\n",
       " [('ABQ,MCO', 'MCO,HOU'), 3.0, 332.0, -5.787427110224545e-07],\n",
       " [('MCO,HOU', 'HOU,OKC'), 13.0, 6480.0, -5.857560142409409e-07],\n",
       " [('BRD,MSP', 'MSP,DFW'), 5.0, 2080.0, -6.015709659736481e-07],\n",
       " [('BFL,DEN', 'DEN,MOT'), 3.0, 800.0, -6.210858268943381e-07],\n",
       " [('JFK,TPA', 'TPA,LGA'), 10.0, 4221.0, -6.244453475923001e-07],\n",
       " [('MSP,SLC', 'SLC,HNL'), 10.0, 9588.0, -6.32328956189317e-07],\n",
       " [('OKC,CLT', 'CLT,LGA'), 9.0, 19610.0, -6.416670001786397e-07],\n",
       " [('ONT,PHX', 'PHX,MCI'), 14.0, 29280.0, -6.503383085000589e-07],\n",
       " [('LYH,CLT', 'CLT,DFW'), 11.0, 30175.0, -6.819293339036795e-07],\n",
       " [('ANC,SEA', 'SEA,SLC'), 29.0, 77262.0, -6.881614949076064e-07],\n",
       " [('MKE,DEN', 'DEN,TUS'), 10.0, 19520.0, -6.906100281919259e-07],\n",
       " [('LAS,AUS', 'AUS,HRL'), 5.0, 560.0, -6.906473676392051e-07],\n",
       " [('FSD,MSP', 'MSP,RSW'), 9.0, 8892.0, -6.919896849645781e-07],\n",
       " [('TPA,ATL', 'ATL,MKE'), 21.0, 172780.0, -7.026606937965866e-07],\n",
       " [('RDU,IAH', 'IAH,HNL'), 6.0, 3440.0, -7.094599950597669e-07],\n",
       " [('DEN,ORD', 'ORD,ABE'), 7.0, 9963.0, -7.221568139428293e-07],\n",
       " [('MHT,DCA', 'DCA,HSV'), 4.0, 594.0, -7.225683255394724e-07],\n",
       " [('SBP,PHX', 'PHX,CLT'), 9.0, 12054.0, -7.282183281500261e-07],\n",
       " [('BNA,STL', 'STL,ICT'), 8.0, 2538.0, -7.426390415724456e-07],\n",
       " [('MDW,LAX', 'LAX,BWI'), 5.0, 2448.0, -7.562944814202692e-07],\n",
       " [('CLT,IAH', 'IAH,DFW'), 20.0, 41745.0, -7.674249485639099e-07],\n",
       " [('EUG,PDX', 'PDX,SNA'), 9.0, 2912.0, -7.724194815207133e-07],\n",
       " [('BTV,DCA', 'DCA,TPA'), 7.0, 2640.0, -7.928285002973016e-07],\n",
       " [('SEA,MCO', 'MCO,PDX'), 6.0, 2592.0, -7.939171631996764e-07],\n",
       " [('SFO,FLL', 'FLL,LAX'), 9.0, 4543.0, -8.250770614476013e-07],\n",
       " [('SJC,PHX', 'PHX,SAT'), 15.0, 34028.0, -8.468585596404555e-07],\n",
       " [('LAS,MDW', 'MDW,MHT'), 11.0, 7493.0, -8.47917776235838e-07],\n",
       " [('DCA,ORD', 'ORD,SAN'), 18.0, 69345.0, -8.53285029125467e-07],\n",
       " [('ORD,LGA', 'LGA,EWR'), 18.0, 16740.0, -8.761307800806685e-07],\n",
       " [('MSP,MCO', 'MCO,RSW'), 8.0, 5220.0, -8.924165366295674e-07],\n",
       " [('ASE,ORD', 'ORD,LGA'), 11.0, 27600.0, -9.120822534347176e-07],\n",
       " [('DAL,DTW', 'DTW,MDW'), 4.0, 1152.0, -9.321008659760757e-07],\n",
       " [('RAP,DFW', 'DFW,MCO'), 7.0, 12320.0, -9.687108017646472e-07],\n",
       " [('BWI,LAS', 'LAS,MDW'), 11.0, 13832.0, -9.700424361099623e-07],\n",
       " [('OAK,DEN', 'DEN,MKE'), 7.0, 9184.0, -9.703975979046402e-07],\n",
       " [('PDX,RNO', 'RNO,BOI'), 6.0, 322.0, -9.720575997755756e-07],\n",
       " [('INL,MSP', 'MSP,LAS'), 4.0, 1224.0, -9.870532311958888e-07],\n",
       " [('CPR,DEN', 'DEN,MAF'), 4.0, 2146.0, -9.923330781322171e-07],\n",
       " [('BWI,LAX', 'LAX,MDW'), 6.0, 4104.0, -1.0005831651758515e-06],\n",
       " [('PHX,KOA', 'KOA,DFW'), 12.0, 1890.0, -1.059221742865017e-06],\n",
       " [('LGB,LAX', 'LAX,EGE'), 1.0, 12.0, -1.066988639669101e-06],\n",
       " [('MSP,LAX', 'LAX,OGG'), 16.0, 32745.0, -1.0896750475446688e-06],\n",
       " [('HOU,DCA', 'DCA,DAL'), 5.0, 1200.0, -1.1238842535344588e-06],\n",
       " [('MDT,DTW', 'DTW,ATW'), 5.0, 2214.0, -1.139631046580936e-06],\n",
       " [('BNA,LAX', 'LAX,LGA'), 2.0, 158.0, -1.1702712609045069e-06],\n",
       " [('TUL,PHX', 'PHX,PDX'), 7.0, 7257.0, -1.1781810533031893e-06],\n",
       " [('LGA,JFK', 'JFK,MIA'), 12.0, 5624.0, -1.1809397831973294e-06],\n",
       " [('MIA,TPA', 'TPA,CLT'), 13.0, 7602.0, -1.1966147154715096e-06],\n",
       " [('COS,DFW', 'DFW,VPS'), 8.0, 17201.0, -1.203736587472226e-06],\n",
       " [('PDX,LAS', 'LAS,SEA'), 15.0, 25596.0, -1.2209152868366803e-06],\n",
       " [('JFK,DFW', 'DFW,LGA'), 7.0, 12740.0, -1.2394993832181107e-06],\n",
       " [('RDU,IAH', 'IAH,TUS'), 5.0, 2365.0, -1.265104381575729e-06],\n",
       " [('CLT,DFW', 'DFW,COS'), 15.0, 61250.0, -1.2708044192848902e-06],\n",
       " [('LAS,MSP', 'MSP,INL'), 4.0, 1290.0, -1.2738316466589004e-06],\n",
       " [('MKE,MCI', 'MCI,SAT'), 6.0, 704.0, -1.3463609908797827e-06],\n",
       " [('MCI,STL', 'STL,CMH'), 10.0, 4400.0, -1.3527285150178952e-06],\n",
       " [('DCA,CLT', 'CLT,AUS'), 11.0, 32292.0, -1.3651329947705017e-06],\n",
       " [('MCI,DFW', 'DFW,PSP'), 8.0, 17520.0, -1.396744915538551e-06],\n",
       " [('YUM,PHX', 'PHX,DFW'), 11.0, 19637.0, -1.4140121085257716e-06],\n",
       " [('DFW,MCO', 'MCO,PHX'), 14.0, 17136.0, -1.4147216639419744e-06],\n",
       " [('OGG,SEA', 'SEA,DTW'), 11.0, 14768.0, -1.4298571149414637e-06],\n",
       " [('MCO,MSP', 'MSP,GFK'), 10.0, 12040.0, -1.443582690328104e-06],\n",
       " [('DFW,IAH', 'IAH,CLT'), 19.0, 39886.0, -1.454719811466785e-06],\n",
       " [('BWI,MSY', 'MSY,TPA'), 8.0, 2400.0, -1.4750279020440214e-06],\n",
       " [('BUF,ATL', 'ATL,DAB'), 8.0, 28743.0, -1.4848480080815473e-06],\n",
       " [('OGG,SFO', 'SFO,ORD'), 25.0, 54150.0, -1.5071820231561919e-06],\n",
       " [('ACY,FLL', 'FLL,BQN'), 3.0, 288.0, -1.5391691066163426e-06],\n",
       " [('DTW,ATL', 'ATL,JAN'), 11.0, 56240.0, -1.5472652635640613e-06],\n",
       " [('SNA,DFW', 'DFW,STL'), 14.0, 54843.0, -1.5519165267285726e-06],\n",
       " [('PSP,DEN', 'DEN,EWR'), 10.0, 21300.0, -1.588640050844488e-06],\n",
       " [('AUS,DAL', 'DAL,IND'), 12.0, 8084.0, -1.5986092510371397e-06],\n",
       " [('MSN,DEN', 'DEN,SBP'), 3.0, 1020.0, -1.6189986254981988e-06],\n",
       " [('DCA,ATL', 'ATL,MGM'), 8.0, 29072.0, -1.6277747368559896e-06],\n",
       " [('PHX,IAH', 'IAH,CVG'), 8.0, 7600.0, -1.6453495919094681e-06],\n",
       " [('AUS,PHX', 'PHX,ONT'), 17.0, 44800.0, -1.6455891832408174e-06],\n",
       " [('LAX,CLT', 'CLT,CHS'), 16.0, 66470.0, -1.658278095668267e-06],\n",
       " [('FLL,PHL', 'PHL,CAK'), 6.0, 2541.0, -1.6625656972916618e-06],\n",
       " [('PHL,MIA', 'MIA,EYW'), 12.0, 7425.0, -1.6639281137665226e-06],\n",
       " [('CMH,FLL', 'FLL,MCO'), 8.0, 3840.0, -1.749031311369785e-06],\n",
       " [('DAL,RDU', 'RDU,HOU'), 3.0, 105.0, -1.7557548338272085e-06],\n",
       " [('SAN,IAH', 'IAH,MCO'), 14.0, 23572.0, -1.7725290618219468e-06],\n",
       " [('MSY,ATL', 'ATL,PHL'), 19.0, 154866.0, -1.7785494777230561e-06],\n",
       " [('DAL,PHL', 'PHL,BNA'), 4.0, 896.0, -1.7830817085892614e-06],\n",
       " [('MCO,OKC', 'OKC,OAK'), 1.0, 1.0, -1.7906552942738685e-06],\n",
       " [('PHL,PHX', 'PHX,SAN'), 19.0, 54604.0, -1.802302216080427e-06],\n",
       " [('IAH,SFO', 'SFO,RDM'), 7.0, 4920.0, -1.8242046209986617e-06],\n",
       " [('SNA,LAS', 'LAS,BNA'), 8.0, 7592.0, -1.82470340607687e-06],\n",
       " [('GCC,DEN', 'DEN,IAH'), 6.0, 6968.0, -1.8282695708546678e-06],\n",
       " [('SEA,DTW', 'DTW,CLE'), 11.0, 14260.0, -1.86691759065759e-06],\n",
       " [('SYR,ORD', 'ORD,SNA'), 8.0, 15290.0, -1.8732046322706865e-06],\n",
       " [('EWR,LGA', 'LGA,IAH'), 11.0, 7138.0, -1.874480943375665e-06],\n",
       " [('ALB,BDL', 'BDL,MCI'), 1.0, 1.0, -1.8809842478024201e-06],\n",
       " [('IAH,RSW', 'RSW,DEN'), 6.0, 1050.0, -1.915955091487228e-06],\n",
       " [('MSN,DEN', 'DEN,TUS'), 8.0, 13600.0, -1.9398624482109565e-06],\n",
       " [('OAK,TUS', 'TUS,SAN'), 3.0, 66.0, -1.9560597666637754e-06],\n",
       " [('PDX,SEA', 'SEA,MCO'), 15.0, 27336.0, -1.979839870616573e-06],\n",
       " [('SRQ,ATL', 'ATL,CAK'), 8.0, 29820.0, -1.99738686674111e-06],\n",
       " [('DAL,SAT', 'SAT,HOU'), 14.0, 5100.0, -2.0012944912474105e-06],\n",
       " [('SAN,LAS', 'LAS,MKE'), 10.0, 12285.0, -2.0135443926573814e-06],\n",
       " [('PBI,MSP', 'MSP,LNK'), 2.0, 168.0, -2.0298681709921083e-06],\n",
       " [('RSW,MDW', 'MDW,GRR'), 8.0, 4224.0, -2.035295165781416e-06],\n",
       " [('MIA,IAH', 'IAH,LAX'), 19.0, 40866.0, -2.08243691970804e-06],\n",
       " [('RNO,JAX', 'JAX,LAS'), 1.0, 2.0, -2.097906769521601e-06],\n",
       " [('DFW,DAL', 'DAL,SEA'), 5.0, 1200.0, -2.1382788778047277e-06],\n",
       " [('DAL,DEN', 'DEN,HOU'), 5.0, 4550.0, -2.149681987994652e-06],\n",
       " [('FLL,DCA', 'DCA,OMA'), 4.0, 744.0, -2.154924170511711e-06],\n",
       " [('HOU,LGA', 'LGA,DAL'), 5.0, 1242.0, -2.189731697337428e-06],\n",
       " [('MKE,BNA', 'BNA,SAT'), 8.0, 2597.0, -2.20683161472997e-06],\n",
       " [('MSP,LAX', 'LAX,LIH'), 13.0, 23718.0, -2.22113151066327e-06],\n",
       " [('CVG,IAH', 'IAH,PHX'), 9.0, 10146.0, -2.2376137283947167e-06],\n",
       " [('ANC,DEN', 'DEN,HSV'), 2.0, 306.0, -2.281825324339586e-06],\n",
       " [('ALB,MDW', 'MDW,LAS'), 11.0, 8260.0, -2.285023409347937e-06],\n",
       " [('PHL,MSY', 'MSY,CLT'), 12.0, 5782.0, -2.2948857846750064e-06],\n",
       " [('OGG,SJC', 'SJC,HNL'), 4.0, 280.0, -2.394982733052858e-06],\n",
       " [('BQN,FLL', 'FLL,ACY'), 3.0, 324.0, -2.445836905487724e-06],\n",
       " [('LGB,SNA', 'SNA,BOI'), 1.0, 3.0, -2.4534736793306463e-06],\n",
       " [('IND,DFW', 'DFW,SAN'), 12.0, 42826.0, -2.494162848948967e-06],\n",
       " [('SNA,DEN', 'DEN,FSD'), 8.0, 14060.0, -2.533965690337435e-06],\n",
       " [('MFE,DFW', 'DFW,SUX'), 3.0, 1540.0, -2.574770530619898e-06],\n",
       " [('MSN,ATL', 'ATL,VLD'), 4.0, 5712.0, -2.583638858732769e-06],\n",
       " [('MIA,SEA', 'SEA,CLT'), 2.0, 185.0, -2.6071423358541886e-06],\n",
       " [('CMH,ORD', 'ORD,SEA'), 14.0, 48300.0, -2.6736352702636982e-06],\n",
       " [('LAX,PHL', 'PHL,ITH'), 8.0, 5246.0, -2.709144813121171e-06],\n",
       " [('SRQ,ORD', 'ORD,MSP'), 7.0, 11968.0, -2.7685538860297786e-06],\n",
       " [('MAF,DEN', 'DEN,VEL'), 1.0, 30.0, -2.776690588835751e-06],\n",
       " [('DTW,SLC', 'SLC,RNO'), 13.0, 18625.0, -2.87319985347011e-06],\n",
       " [('PSP,PHX', 'PHX,BOS'), 10.0, 17466.0, -2.889996255577581e-06],\n",
       " [('HNL,SFO', 'SFO,LAS'), 20.0, 39245.0, -2.9150344391738477e-06],\n",
       " [('CLE,EWR', 'EWR,FLL'), 8.0, 4048.0, -2.991945299462129e-06],\n",
       " [('SFO,PHX', 'PHX,PIT'), 9.0, 14170.0, -3.0215065530232482e-06],\n",
       " [('MDW,OMA', 'OMA,STL'), 9.0, 665.0, -3.0309433438946598e-06],\n",
       " [('BUR,OKC', 'OKC,LAS'), 2.0, 14.0, -3.0442978867199174e-06],\n",
       " [('CLT,SEA', 'SEA,PHL'), 4.0, 1564.0, -3.045464302025552e-06],\n",
       " [('ATL,DTW', 'DTW,LAN'), 10.0, 12410.0, -3.0455838381766607e-06],\n",
       " [('AZO,ORD', 'ORD,DFW'), 7.0, 12136.0, -3.0634594459615744e-06],\n",
       " [('OMA,MCO', 'MCO,MDW'), 4.0, 1148.0, -3.1117031738101436e-06],\n",
       " [('SAN,PHX', 'PHX,CMH'), 11.0, 21240.0, -3.1230964619946225e-06],\n",
       " [('DAL,BHM', 'BHM,HOU'), 6.0, 204.0, -3.2925058491103516e-06],\n",
       " [('AUS,DCA', 'DCA,DAL'), 4.0, 816.0, -3.3663039613431192e-06],\n",
       " [('ABQ,DTW', 'DTW,DAL'), 1.0, 18.0, -3.378557543437871e-06],\n",
       " [('LIH,PHX', 'PHX,OMA'), 6.0, 5900.0, -3.401532374589572e-06],\n",
       " [('RAP,MSP', 'MSP,ATL'), 9.0, 10660.0, -3.408814541431524e-06],\n",
       " [('PDX,DFW', 'DFW,DAL'), 4.0, 3720.0, -3.428308564567268e-06],\n",
       " [('BNA,PHL', 'PHL,ECP'), 2.0, 130.0, -3.44452382985117e-06],\n",
       " [('MSP,DTW', 'DTW,ABE'), 7.0, 5940.0, -3.445939726298052e-06],\n",
       " [('RSW,ATL', 'ATL,MKE'), 17.0, 134355.0, -3.475078579272171e-06],\n",
       " [('CAK,ORD', 'ORD,SAN'), 6.0, 8694.0, -3.4983129972487508e-06],\n",
       " [('SGU,LAX', 'LAX,LIH'), 3.0, 804.0, -3.542776235394105e-06],\n",
       " [('PHX,DAL', 'DAL,BOS'), 7.0, 2900.0, -3.589997002465286e-06],\n",
       " [('DAB,ATL', 'ATL,ALB'), 6.0, 16910.0, -3.6196744785545485e-06],\n",
       " [('LAX,ORD', 'ORD,GRR'), 19.0, 84048.0, -3.6359652212686627e-06],\n",
       " [('STL,PHX', 'PHX,SNA'), 13.0, 29541.0, -3.655252861002905e-06],\n",
       " [('DAL,TPA', 'TPA,HOU'), 5.0, 1092.0, -3.6620537467569677e-06],\n",
       " [('JAX,DFW', 'DFW,SAN'), 10.0, 31234.0, -3.6653270094692435e-06],\n",
       " [('MCO,SAT', 'SAT,OKC'), 2.0, 44.0, -3.7099354660469412e-06],\n",
       " [('GRB,MSP', 'MSP,SNA'), 6.0, 4452.0, -3.7949621812040994e-06],\n",
       " [('DEN,IAH', 'IAH,VPS'), 7.0, 6324.0, -3.838582330918062e-06],\n",
       " [('BTV,PHL', 'PHL,MCO'), 10.0, 8658.0, -3.847090640945778e-06],\n",
       " [('HNL,LAX', 'LAX,SLC'), 31.0, 104342.0, -3.966035871104661e-06],\n",
       " [('HNL,DFW', 'DFW,STL'), 9.0, 25521.0, -4.006144640092046e-06],\n",
       " [('SLC,SAT', 'SAT,LAX'), 8.0, 1820.0, -4.025033017880914e-06],\n",
       " [('DCA,IAD', 'IAD,MSP'), 7.0, 2208.0, -4.072830225418824e-06],\n",
       " [('BWI,ORD', 'ORD,JAC'), 5.0, 5772.0, -4.16292015426704e-06],\n",
       " [('PHX,DFW', 'DFW,BNA'), 14.0, 59596.0, -4.1738120340931355e-06],\n",
       " [('FLL,IAH', 'IAH,ASE'), 5.0, 2920.0, -4.198994239116908e-06],\n",
       " [('HOU,BOS', 'BOS,STL'), 4.0, 544.0, -4.247276602840063e-06],\n",
       " [('DFW,AUS', 'AUS,CLT'), 15.0, 7546.0, -4.2539657665873385e-06],\n",
       " [('STL,BNA', 'BNA,RDU'), 9.0, 3604.0, -4.303941444858886e-06],\n",
       " [('HOU,SAN', 'SAN,DAL'), 6.0, 1890.0, -4.3059934879566e-06],\n",
       " [('SNA,ATL', 'ATL,ROA'), 5.0, 11242.0, -4.3223230775711965e-06],\n",
       " [('CLT,MCO', 'MCO,PHL'), 23.0, 43368.0, -4.335319301211182e-06],\n",
       " [('MCI,MDW', 'MDW,CMH'), 11.0, 8811.0, -4.364340742357244e-06],\n",
       " [('PHX,PHL', 'PHL,PWM'), 12.0, 12462.0, -4.4182477176240165e-06],\n",
       " [('HOU,PHL', 'PHL,DAL'), 1.0, 14.0, -4.418642468080759e-06],\n",
       " [('EWR,ORD', 'ORD,OKC'), 9.0, 21746.0, -4.461517383814663e-06],\n",
       " [('DCA,ORD', 'ORD,FSD'), 9.0, 21775.0, -4.513243479157054e-06],\n",
       " [('LGA,JFK', 'JFK,DEN'), 12.0, 6384.0, -4.59154671075985e-06],\n",
       " [('MCO,AUS', 'AUS,SJC'), 5.0, 783.0, -4.672113273245575e-06],\n",
       " [('SAV,ORD', 'ORD,BOI'), 2.0, 440.0, -4.6883778950031025e-06],\n",
       " [('LAS,PHX', 'PHX,ELP'), 15.0, 39005.0, -4.6935004834121715e-06],\n",
       " [('MFR,PHX', 'PHX,DFW'), 5.0, 4035.0, -4.80419465081929e-06],\n",
       " [('PSP,PHX', 'PHX,MIA'), 7.0, 8804.0, -4.810089349701408e-06],\n",
       " [('FAT,DEN', 'DEN,ICT'), 3.0, 1350.0, -4.866729308490088e-06],\n",
       " [('DEN,PNS', 'PNS,OAK'), 1.0, 1.0, -4.928070024738677e-06],\n",
       " [('JFK,ORD', 'ORD,LGA'), 9.0, 22000.0, -4.931967767965511e-06],\n",
       " [('IAD,MSP', 'MSP,SJC'), 4.0, 1710.0, -4.969615932446235e-06],\n",
       " [('MSP,ATL', 'ATL,PNS'), 15.0, 111249.0, -4.974569421372318e-06],\n",
       " [('OMA,STL', 'STL,MCO'), 10.0, 5056.0, -4.995560104187494e-06],\n",
       " [('TPA,DTW', 'DTW,TVC'), 8.0, 8343.0, -5.082529613488328e-06],\n",
       " [('EWR,LGA', 'LGA,ORD'), 21.0, 24402.0, -5.09951624876622e-06],\n",
       " [('EWR,DCA', 'DCA,IAD'), 6.0, 2415.0, -5.14789026607643e-06],\n",
       " [('ROC,ATL', 'ATL,PNS'), 7.0, 25248.0, -5.176502191764826e-06],\n",
       " [('PHL,SJU', 'SJU,CLT'), 16.0, 3484.0, -5.200775530116426e-06],\n",
       " [('RNO,TPA', 'TPA,LAS'), 1.0, 9.0, -5.2282719269925934e-06],\n",
       " [('SJC,DAL', 'DAL,DTW'), 5.0, 1406.0, -5.250772389936117e-06],\n",
       " [('PDX,TUS', 'TUS,SJC'), 3.0, 85.0, -5.2784317915413624e-06],\n",
       " [('KOA,PHX', 'PHX,STL'), 6.0, 6318.0, -5.2928489871468775e-06],\n",
       " [('TYS,DEN', 'DEN,PSC'), 2.0, 406.0, -5.29830261838006e-06],\n",
       " [('CHA,CLT', 'CLT,DEN'), 8.0, 19594.0, -5.312830809936294e-06],\n",
       " [('GEG,ORD', 'ORD,ORF'), 3.0, 1560.0, -5.327029078835295e-06],\n",
       " [('SLC,SEA', 'SEA,LIH'), 10.0, 14016.0, -5.349538330936366e-06],\n",
       " [('CVG,LAS', 'LAS,SLC'), 10.0, 13640.0, -5.3622132022444185e-06],\n",
       " [('MSY,BNA', 'BNA,MKE'), 10.0, 4558.0, -5.374914266709729e-06],\n",
       " [('DFW,MEM', 'MEM,PHX'), 9.0, 976.0, -5.413016712688965e-06],\n",
       " [('ITH,DTW', 'DTW,SFO'), 6.0, 4485.0, -5.454732794810542e-06],\n",
       " [('ORD,FLL', 'FLL,MIA'), 11.0, 8352.0, -5.4836824015213095e-06],\n",
       " [('LGA,ORD', 'ORD,SMF'), 9.0, 22275.0, -5.489178954598973e-06],\n",
       " [('CLT,TPA', 'TPA,PHL'), 18.0, 15308.0, -5.512354486240923e-06],\n",
       " [('DAL,SMF', 'SMF,HOU'), 2.0, 36.0, -5.53296319188689e-06],\n",
       " [('PHX,BUF', 'BUF,MDW'), 4.0, 98.0, -5.586489969044238e-06],\n",
       " [('DFW,DCA', 'DCA,ALB'), 9.0, 5845.0, -5.6261920289750365e-06],\n",
       " [('SNA,SEA', 'SEA,GEG'), 19.0, 44375.0, -5.6618234921451194e-06],\n",
       " [('DFW,RNO', 'RNO,ORD'), 8.0, 792.0, -5.6872951459309504e-06],\n",
       " [('EVV,ATL', 'ATL,OGG'), 1.0, 94.0, -5.70741254680725e-06],\n",
       " [('DFW,TPA', 'TPA,PHX'), 10.0, 5336.0, -5.721196754693261e-06],\n",
       " [('DFW,CLT', 'CLT,HTS'), 6.0, 10556.0, -5.733678448358353e-06],\n",
       " [('IND,ATL', 'ATL,TPA'), 21.0, 197600.0, -5.806088931741922e-06],\n",
       " [('MIA,JFK', 'JFK,LGA'), 9.0, 3752.0, -5.831779143307018e-06],\n",
       " [('CLT,SLC', 'SLC,DFW'), 9.0, 9853.0, -5.857110059379149e-06],\n",
       " [('LAS,SLC', 'SLC,BIL'), 12.0, 17150.0, -5.864768780002685e-06],\n",
       " [('SMF,PHX', 'PHX,ABQ'), 14.0, 35192.0, -5.871788164544344e-06],\n",
       " [('SYR,CLT', 'CLT,RSW'), 10.0, 31104.0, -5.8814243971526764e-06],\n",
       " [('OAJ,CLT', 'CLT,PHX'), 11.0, 37352.0, -5.886569670640362e-06],\n",
       " [('ORF,ATL', 'ATL,HNL'), 6.0, 18249.0, -5.918431635352815e-06],\n",
       " [('ALB,IAH', 'IAH,CLL'), 1.0, 25.0, -5.9298624578434215e-06],\n",
       " [('BIL,SLC', 'SLC,LAS'), 12.0, 17176.0, -5.958871344173973e-06],\n",
       " [('EWR,ALB', 'ALB,IAD'), 4.0, 60.0, -5.988237986091985e-06],\n",
       " [('DSM,STL', 'STL,MCO'), 9.0, 4187.0, -5.990680918716723e-06],\n",
       " [('FLL,MDW', 'MDW,FNT'), 6.0, 2584.0, -5.993492121481118e-06],\n",
       " [('ASE,SLC', 'SLC,JFK'), 6.0, 4154.0, -6.04125991370934e-06],\n",
       " [('SAT,MSP', 'MSP,RHI'), 3.0, 816.0, -6.080990881133035e-06],\n",
       " [('FSD,DEN', 'DEN,SNA'), 8.0, 15708.0, -6.122707240026214e-06],\n",
       " [('SJC,ORD', 'ORD,DAY'), 6.0, 9506.0, -6.2232156910043455e-06],\n",
       " [('AVL,ORD', 'ORD,HDN'), 2.0, 484.0, -6.22593229473538e-06],\n",
       " [('EWN,CLT', 'CLT,DEN'), 8.0, 19998.0, -6.2435722704809074e-06],\n",
       " [('CLT,MCO', 'MCO,DFW'), 26.0, 53654.0, -6.303023153917795e-06],\n",
       " [('PWM,HOU', 'HOU,SLC'), 1.0, 9.0, -6.361620798535434e-06],\n",
       " [('DTW,SLC', 'SLC,SJC'), 12.0, 17284.0, -6.364289543095497e-06],\n",
       " [('HNL,SFO', 'SFO,BWI'), 9.0, 9870.0, -6.391920835925489e-06],\n",
       " [('JAX,FLL', 'FLL,SJU'), 6.0, 2418.0, -6.3948821998285065e-06],\n",
       " [('SFO,SJC', 'SJC,EWR'), 6.0, 920.0, -6.407453537482803e-06],\n",
       " [('MCO,PDX', 'PDX,ANC'), 5.0, 1020.0, -6.440931647455229e-06],\n",
       " [('MHT,TPA', 'TPA,BWI'), 5.0, 1207.0, -6.446996938178259e-06],\n",
       " [('DTW,SAN', 'SAN,MSP'), 10.0, 5886.0, -6.507117728134e-06],\n",
       " [('CLT,SEA', 'SEA,DFW'), 7.0, 6900.0, -6.523445544444125e-06],\n",
       " [('CAE,ATL', 'ATL,SLC'), 12.0, 76380.0, -6.547549474425088e-06],\n",
       " [('IND,HOU', 'HOU,AUS'), 10.0, 4930.0, -6.803373761657822e-06],\n",
       " [('HOU,PHX', 'PHX,DAL'), 5.0, 4292.0, -6.804892192155109e-06],\n",
       " [('CID,DEN', 'DEN,SNA'), 7.0, 12036.0, -6.93119939955748e-06],\n",
       " [('ELP,ATL', 'ATL,DTW'), 8.0, 34868.0, -6.942726280816363e-06],\n",
       " [('CWA,ORD', 'ORD,RSW'), 5.0, 6321.0, -6.951000008934489e-06],\n",
       " [('SFO,DFW', 'DFW,RSW'), 10.0, 33488.0, -7.000174243467042e-06],\n",
       " [('MCI,MSP', 'MSP,FWA'), 4.0, 1840.0, -7.063066053503115e-06],\n",
       " [('SUX,DFW', 'DFW,MFE'), 3.0, 1995.0, -7.099423747394261e-06],\n",
       " [('ELP,OKC', 'OKC,BNA'), 1.0, 2.0, -7.146762525710367e-06],\n",
       " [('PDX,SFO', 'SFO,FLL'), 11.0, 14760.0, -7.223270252807278e-06],\n",
       " [('PSP,SLC', 'SLC,ATL'), 10.0, 12420.0, -7.254736792391999e-06],\n",
       " [('ROA,ATL', 'ATL,SNA'), 5.0, 12324.0, -7.257188486478741e-06],\n",
       " [('DEN,LGA', 'LGA,EWR'), 10.0, 6820.0, -7.284117595867997e-06],\n",
       " [('HNL,DTW', 'DTW,BWI'), 2.0, 246.0, -7.310321275413657e-06],\n",
       " [('IMT,DTW', 'DTW,ATL'), 3.0, 815.0, -7.325065683350215e-06],\n",
       " [('PIT,PDX', 'PDX,MCI'), 1.0, 9.0, -7.325884682822819e-06],\n",
       " [('ANC,PDX', 'PDX,TUS'), 4.0, 600.0, -7.34208898154817e-06],\n",
       " [('HNL,KOA', 'KOA,OGG'), 38.0, 14350.0, -7.436390187796487e-06],\n",
       " [('LAS,DEN', 'DEN,OMA'), 15.0, 52624.0, -7.436702071132554e-06],\n",
       " [('SEA,IAD', 'IAD,BWI'), 4.0, 644.0, -7.471363401993437e-06],\n",
       " [('PIT,ATL', 'ATL,AEX'), 5.0, 12390.0, -7.478602702276848e-06],\n",
       " [('HDN,EWR', 'EWR,BWI'), 2.0, 129.0, -7.557025084900087e-06],\n",
       " [('BZN,DEN', 'DEN,AUS'), 8.0, 16137.0, -7.572401245874483e-06],\n",
       " [('SNA,IAH', 'IAH,CLE'), 8.0, 9204.0, -7.5729128405738554e-06],\n",
       " [('BZN,MSP', 'MSP,BOS'), 9.0, 11700.0, -7.604286899803193e-06],\n",
       " [('SLC,DEN', 'DEN,IND'), 14.0, 46759.0, -7.6139201088087985e-06],\n",
       " [('PHX,HOU', 'HOU,BHM'), 8.0, 3200.0, -7.620106160232455e-06],\n",
       " [('PNS,ORD', 'ORD,BZN'), 2.0, 518.0, -7.620688422536768e-06],\n",
       " [('SAF,PHX', 'PHX,SAN'), 5.0, 4380.0, -7.627606487582954e-06],\n",
       " [('HSV,CLT', 'CLT,RIC'), 8.0, 20532.0, -7.685493756890922e-06],\n",
       " [('SFO,BWI', 'BWI,EWR'), 3.0, 520.0, -7.753500875192708e-06],\n",
       " [('LGB,JFK', 'JFK,RNO'), 2.0, 88.0, -7.981877648669216e-06],\n",
       " [('GRR,RSW', 'RSW,MDW'), 5.0, 860.0, -8.066893158105545e-06],\n",
       " [('ASE,ORD', 'ORD,PHL'), 8.0, 18423.0, -8.257619674291363e-06],\n",
       " [('PWM,MDW', 'MDW,RNO'), 1.0, 16.0, -8.284114766423187e-06],\n",
       " [('DSM,DTW', 'DTW,DCA'), 7.0, 6710.0, -8.284635841271406e-06],\n",
       " [('BMI,ORD', 'ORD,PHX'), 5.0, 6526.0, -8.316629458835935e-06],\n",
       " [('IAH,SFO', 'SFO,MFR'), 8.0, 8040.0, -8.42169462129675e-06],\n",
       " [('ANC,MSP', 'MSP,ATL'), 11.0, 17420.0, -8.444082384395508e-06],\n",
       " [('LAX,DTW', 'DTW,BWI'), 13.0, 22509.0, -8.460344555561978e-06],\n",
       " [('RNO,SLC', 'SLC,DTW'), 13.0, 20520.0, -8.462422444789537e-06],\n",
       " [('DEN,PDX', 'PDX,IAH'), 8.0, 3024.0, -8.488777025565199e-06],\n",
       " [('MDW,ORF', 'ORF,BWI'), 14.0, 1593.0, -8.503866254184921e-06],\n",
       " [('BNA,OAK', 'OAK,BWI'), 4.0, 312.0, -8.505644230000854e-06],\n",
       " [('DAL,DCA', 'DCA,HOU'), 4.0, 990.0, -8.51573734316638e-06],\n",
       " [('BOS,MDW', 'MDW,ABQ'), 5.0, 1792.0, -8.518080083608988e-06],\n",
       " [('DCA,STL', 'STL,SAN'), 5.0, 1222.0, -8.617781491794187e-06],\n",
       " [('ATL,OKC', 'OKC,DTW'), 8.0, 682.0, -8.685482141820645e-06],\n",
       " [('SJU,MIA', 'MIA,SAT'), 6.0, 2144.0, -8.732872928692223e-06],\n",
       " [('BOI,RNO', 'RNO,SEA'), 5.0, 297.0, -8.781371307677059e-06],\n",
       " [('LGA,PHL', 'PHL,ERI'), 4.0, 1248.0, -8.78605836240505e-06],\n",
       " [('SAT,LAS', 'LAS,RNO'), 9.0, 11730.0, -8.834192923448273e-06],\n",
       " [('ELP,SAT', 'SAT,MDW'), 5.0, 714.0, -8.858019191261648e-06],\n",
       " [('CLE,SEA', 'SEA,MDW'), 1.0, 31.0, -8.868924983716966e-06],\n",
       " [('ALB,SEA', 'SEA,MDW'), 1.0, 31.0, -8.868924983716966e-06],\n",
       " [('TUS,IAH', 'IAH,GRR'), 3.0, 900.0, -8.954268672661466e-06],\n",
       " [('LAX,IAH', 'IAH,TPA'), 17.0, 37665.0, -8.977973101357994e-06],\n",
       " [('SEA,DEN', 'DEN,MEM'), 8.0, 16513.0, -9.075060372344914e-06],\n",
       " [('SAT,IAD', 'IAD,LGA'), 5.0, 1160.0, -9.09963760679364e-06],\n",
       " [('PHX,DEN', 'DEN,FAR'), 8.0, 16524.0, -9.122541264629291e-06],\n",
       " [('LAS,ORD', 'ORD,EVV'), 5.0, 6641.0, -9.172871282155335e-06],\n",
       " [('PNS,VPS', 'VPS,DCA'), 1.0, 1.0, -9.176541983707525e-06],\n",
       " [('JAX,BNA', 'BNA,MCI'), 6.0, 1681.0, -9.181953715401751e-06],\n",
       " [('SLC,LAX', 'LAX,LIH'), 13.0, 26934.0, -9.190505347942386e-06],\n",
       " [('FAR,MSP', 'MSP,MCO'), 12.0, 20636.0, -9.258755942628019e-06],\n",
       " [('SEA,SLC', 'SLC,TUL'), 6.0, 4444.0, -9.31048157016882e-06],\n",
       " [('CMH,SAT', 'SAT,BNA'), 2.0, 60.0, -9.334744183158926e-06],\n",
       " [('DAL,SLC', 'SLC,MDW'), 3.0, 792.0, -9.399613591274208e-06],\n",
       " [('LAS,AUS', 'AUS,SMF'), 3.0, 240.0, -9.432491384105268e-06],\n",
       " [('GJT,DFW', 'DFW,MAF'), 4.0, 4600.0, -9.497962161581337e-06],\n",
       " [('IAD,DAY', 'DAY,BNA'), 1.0, 1.0, -9.505167590142908e-06],\n",
       " [('EWR,MCO', 'MCO,PBI'), 6.0, 3800.0, -9.508559843065806e-06],\n",
       " [('RIC,ATL', 'ATL,BNA'), 15.0, 117325.0, -9.513348720251403e-06],\n",
       " [('BOS,MSP', 'MSP,BZN'), 9.0, 12015.0, -9.539751642025374e-06],\n",
       " [('SNA,ORD', 'ORD,SYR'), 8.0, 18768.0, -9.552014220407007e-06],\n",
       " [('CHS,CLT', 'CLT,DTW'), 12.0, 46060.0, -9.605858962950035e-06],\n",
       " [('MDW,PBI', 'PBI,FNT'), 1.0, 5.0, -9.663681978865623e-06],\n",
       " [('MLU,IAH', 'IAH,ANC'), 1.0, 32.0, -9.695541696112221e-06],\n",
       " [('BWI,OKC', 'OKC,PHX'), 4.0, 143.0, -9.695656095012691e-06],\n",
       " [('HNL,PDX', 'PDX,BLI'), 4.0, 638.0, -9.84806585658405e-06],\n",
       " [('ABQ,ORD', 'ORD,HPN'), 3.0, 1827.0, -9.875346115959806e-06]]"
      ]
     },
     "execution_count": 14,
     "metadata": {},
     "output_type": "execute_result"
    }
   ],
   "source": [
    "print(len(over_non_return))\n",
    "over_non_return = sorted(over_non_return, key=lambda x: x[3], reverse=True)\n",
    "over_non_return"
   ]
  },
  {
   "cell_type": "markdown",
   "metadata": {},
   "source": [
    "# Distance-related hypotheses"
   ]
  },
  {
   "cell_type": "code",
   "execution_count": 15,
   "metadata": {},
   "outputs": [],
   "source": [
    "import pandas as pd\n",
    "import geopy.distance as gd"
   ]
  },
  {
   "cell_type": "code",
   "execution_count": 16,
   "metadata": {},
   "outputs": [],
   "source": [
    "airpdat = pd.read_csv('../data/airport-codes.csv')\n",
    "\n",
    "isUS = (airpdat.iso_country == 'US')\n",
    "hasCoors = airpdat.coordinates.apply(lambda x: len(x) > 8)\n",
    "hasIATA = airpdat.iata_code.notnull()\n",
    "\n",
    "airpdat = airpdat[isUS & hasCoors & hasIATA]\n",
    "\n",
    "airpdat.coordinates = airpdat.coordinates.apply(\n",
    "    lambda x: gd.lonlat(*x.split(', ')))"
   ]
  },
  {
   "cell_type": "code",
   "execution_count": 17,
   "metadata": {},
   "outputs": [],
   "source": [
    "iata_coord = {row['iata_code']: row['coordinates'] for idx, row in airpdat.iterrows()}"
   ]
  },
  {
   "cell_type": "code",
   "execution_count": 18,
   "metadata": {
    "scrolled": true
   },
   "outputs": [],
   "source": [
    "# read = True\n",
    "\n",
    "for e,edat in hy.hypa_net.edges.items():\n",
    "    a = e[0].split(',')[0]\n",
    "    b = e[0].split(',')[1]\n",
    "    c = e[1].split(',')[1]\n",
    "\n",
    "    try:\n",
    "        ainf, binf, cinf = (iata_coord[i] for i in (a,b,c))\n",
    "    except KeyError:\n",
    "        continue\n",
    "\n",
    "    hy.hypa_net.edges[e]['dist12'] = gd.distance(ainf, binf).km\n",
    "    hy.hypa_net.edges[e]['dist23'] = gd.distance(binf, cinf).km\n",
    "    hy.hypa_net.edges[e]['dist13'] = gd.distance(ainf, cinf).km"
   ]
  },
  {
   "cell_type": "markdown",
   "metadata": {},
   "source": [
    "### Efficiency"
   ]
  },
  {
   "cell_type": "code",
   "execution_count": 19,
   "metadata": {},
   "outputs": [],
   "source": [
    "def compute_rel_dist(dat):\n",
    "    return dat['dist13']/(dat['dist12'] + dat['dist23'])\n",
    "    \n",
    "pval_vs_dist = []\n",
    "for e,dat in hy.hypa_net.edges.items():\n",
    "    if \"dist12\" in dat:\n",
    "        pval_vs_dist.append([compute_rel_dist(dat), dat['pval']])\n",
    "\n",
    "pval_vs_dist = np.array(pval_vs_dist)"
   ]
  },
  {
   "cell_type": "code",
   "execution_count": 20,
   "metadata": {},
   "outputs": [],
   "source": [
    "n_bins = 16\n",
    "dist_bins = np.arange(0,1+1/n_bins, 1/n_bins)\n",
    "p_binned = [[] for b in dist_bins]\n",
    "for rd,pv in pval_vs_dist:\n",
    "    p_binned[np.argmax(rd <= dist_bins)].append(pv)"
   ]
  },
  {
   "cell_type": "code",
   "execution_count": 21,
   "metadata": {},
   "outputs": [],
   "source": [
    "po = pu = 0.05\n",
    "# po = 0.05 # alpha_u\n",
    "over_binned = [np.sum(np.array(b) > np.log(1-po))/len(b) for b in p_binned]\n",
    "under_binned = [np.sum(np.array(b) < np.log(pu))/len(b) for b in p_binned]"
   ]
  },
  {
   "cell_type": "code",
   "execution_count": 22,
   "metadata": {},
   "outputs": [
    {
     "data": {
      "image/png": "[encoded data removed]",
      "text/plain": [
       "<Figure size 288x259.2 with 1 Axes>"
      ]
     },
     "metadata": {},
     "output_type": "display_data"
    }
   ],
   "source": [
    "draw.set_style()\n",
    "ccc = plt.rcParams['axes.prop_cycle'].by_key()['color']\n",
    "plt.rcParams['figure.figsize'] =  [4, 3.6]\n",
    "\n",
    "plt.plot(dist_bins, under_binned, 'o-', c=ccc[0])\n",
    "plt.xlabel(\"Distance efficiency, $\\\\frac{d(A,C)}{d(A,B) + d(B,C)}$\")\n",
    "plt.ylabel(\"Fraction under-represented\")\n",
    "plt.ylim((0, 1.05*max(under_binned)))\n",
    "\n",
    "plt.tight_layout()\n",
    "plt.savefig('output/rel-dist-underrep.pdf')\n",
    "plt.show()"
   ]
  },
  {
   "cell_type": "code",
   "execution_count": 23,
   "metadata": {},
   "outputs": [
    {
     "data": {
      "image/png": "[encoded data removed]",
      "text/plain": [
       "<Figure size 288x259.2 with 1 Axes>"
      ]
     },
     "metadata": {},
     "output_type": "display_data"
    }
   ],
   "source": [
    "draw.set_style()\n",
    "plt.rcParams['figure.figsize'] =  [4, 3.6]\n",
    "\n",
    "plt.plot(dist_bins, np.array(over_binned), 'o-', c=ccc[1])\n",
    "plt.xlabel(\"Distance efficiency, $\\\\frac{d(A,C)}{d(A,B) + d(B,C)}$\")\n",
    "plt.ylabel(\"Fraction over-represented\")\n",
    "plt.ylim((0.2, 1.05*max(over_binned)))\n",
    "\n",
    "plt.tight_layout()\n",
    "plt.savefig('output/rel-dist-overrep.pdf')"
   ]
  },
  {
   "cell_type": "markdown",
   "metadata": {},
   "source": [
    "### Balance"
   ]
  },
  {
   "cell_type": "code",
   "execution_count": 24,
   "metadata": {},
   "outputs": [],
   "source": [
    "def compute_length_balance(dat):\n",
    "    return (dat['dist12'] - dat['dist23'])/(dat['dist12'] + dat['dist23'])\n",
    "    \n",
    "pval_vs_lratio = []\n",
    "for e,dat in hy.hypa_net.edges.items():\n",
    "    if \"dist12\" in dat:\n",
    "        pval_vs_lratio.append([compute_length_balance(dat), dat['pval']])\n",
    "\n",
    "pval_vs_lratio = np.array(pval_vs_lratio)"
   ]
  },
  {
   "cell_type": "code",
   "execution_count": 25,
   "metadata": {},
   "outputs": [
    {
     "data": {
      "image/png": "[encoded data removed]",
      "text/plain": [
       "<Figure size 288x259.2 with 1 Axes>"
      ]
     },
     "metadata": {},
     "output_type": "display_data"
    }
   ],
   "source": [
    "# pu = 0.01\n",
    "# po = 0.01\n",
    "draw.set_style()\n",
    "plt.rcParams['figure.figsize'] =  [4, 3.6]\n",
    "\n",
    "lru = (pval_vs_lratio[:,1] < np.log(pu))\n",
    "lro = (pval_vs_lratio[:,1] > np.log(1-po))\n",
    "mid = np.logical_and(~lru, ~lro)\n",
    "lrnoo = (pval_vs_lratio[:,1] < np.log(1-po))\n",
    "\n",
    "plt.hist((pval_vs_lratio[lru,0], pval_vs_lratio[lro,0]),\n",
    "         label=('Under','Over'),\n",
    "         bins=32, density=True)\n",
    "\n",
    "plt.xlabel(\"Distance balance, $\\\\frac{d(A,B) - d(B,C)}{d(A,B) + d(B,C)}$\")\n",
    "plt.ylabel(\"Density of HYPA(2) scores\")\n",
    "plt.legend()\n",
    "plt.tight_layout()\n",
    "plt.savefig('output/distance-balance.pdf')\n",
    "plt.show()"
   ]
  }
 ],
 "metadata": {
  "kernelspec": {
   "display_name": "Python 3",
   "language": "python",
   "name": "python3"
  },
  "language_info": {
   "codemirror_mode": {
    "name": "ipython",
    "version": 3
   },
   "file_extension": ".py",
   "mimetype": "text/x-python",
   "name": "python",
   "nbconvert_exporter": "python",
   "pygments_lexer": "ipython3",
   "version": "3.6.6"
  }
 },
 "nbformat": 4,
 "nbformat_minor": 4
}
